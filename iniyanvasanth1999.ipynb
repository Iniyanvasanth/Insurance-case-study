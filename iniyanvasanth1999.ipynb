{
 "cells": [
  {
   "cell_type": "code",
   "execution_count": 1060,
   "id": "a3f19d97",
   "metadata": {},
   "outputs": [],
   "source": [
    "import numpy as np\n",
    "import pandas as pd\n",
    "from matplotlib import pyplot as plt\n",
    "import seaborn as sns\n",
    "from numpy import where as IF\n",
    "%matplotlib inline\n",
    "sns.set_context('talk')\n",
    "import scipy.stats as stats"
   ]
  },
  {
   "cell_type": "code",
   "execution_count": 1061,
   "id": "edbafd4b",
   "metadata": {},
   "outputs": [
    {
     "data": {
      "text/html": [
       "<div>\n",
       "<style scoped>\n",
       "    .dataframe tbody tr th:only-of-type {\n",
       "        vertical-align: middle;\n",
       "    }\n",
       "\n",
       "    .dataframe tbody tr th {\n",
       "        vertical-align: top;\n",
       "    }\n",
       "\n",
       "    .dataframe thead th {\n",
       "        text-align: right;\n",
       "    }\n",
       "</style>\n",
       "<table border=\"1\" class=\"dataframe\">\n",
       "  <thead>\n",
       "    <tr style=\"text-align: right;\">\n",
       "      <th></th>\n",
       "      <th>CUST_ID</th>\n",
       "      <th>gender</th>\n",
       "      <th>DateOfBirth</th>\n",
       "      <th>State</th>\n",
       "      <th>Contact</th>\n",
       "      <th>Segment</th>\n",
       "    </tr>\n",
       "  </thead>\n",
       "  <tbody>\n",
       "    <tr>\n",
       "      <th>0</th>\n",
       "      <td>21868593</td>\n",
       "      <td>Female</td>\n",
       "      <td>12-Jan-79</td>\n",
       "      <td>VT</td>\n",
       "      <td>789-916-8172</td>\n",
       "      <td>Platinum</td>\n",
       "    </tr>\n",
       "    <tr>\n",
       "      <th>1</th>\n",
       "      <td>75740424</td>\n",
       "      <td>Female</td>\n",
       "      <td>13-Jan-70</td>\n",
       "      <td>ME</td>\n",
       "      <td>265-543-1264</td>\n",
       "      <td>Silver</td>\n",
       "    </tr>\n",
       "  </tbody>\n",
       "</table>\n",
       "</div>"
      ],
      "text/plain": [
       "    CUST_ID  gender DateOfBirth State       Contact   Segment\n",
       "0  21868593  Female   12-Jan-79    VT  789-916-8172  Platinum\n",
       "1  75740424  Female   13-Jan-70    ME  265-543-1264    Silver"
      ]
     },
     "execution_count": 1061,
     "metadata": {},
     "output_type": "execute_result"
    }
   ],
   "source": [
    "#1)Import claims_data.csv and cust_data.csv which is provided to you and combine the two datasets appropriately to create a 360-degree view ofthe data. Use the same for the subsequent questions.\n",
    "\n",
    "claims = pd.read_csv(r\"claims.csv\")\n",
    "demo = pd.read_csv(r\"cust_demographics.csv\")\n",
    "demo.head(2)"
   ]
  },
  {
   "cell_type": "code",
   "execution_count": 1062,
   "id": "68ee4bc1",
   "metadata": {},
   "outputs": [
    {
     "data": {
      "text/html": [
       "<div>\n",
       "<style scoped>\n",
       "    .dataframe tbody tr th:only-of-type {\n",
       "        vertical-align: middle;\n",
       "    }\n",
       "\n",
       "    .dataframe tbody tr th {\n",
       "        vertical-align: top;\n",
       "    }\n",
       "\n",
       "    .dataframe thead th {\n",
       "        text-align: right;\n",
       "    }\n",
       "</style>\n",
       "<table border=\"1\" class=\"dataframe\">\n",
       "  <thead>\n",
       "    <tr style=\"text-align: right;\">\n",
       "      <th></th>\n",
       "      <th>claim_id</th>\n",
       "      <th>customer_id</th>\n",
       "      <th>incident_cause</th>\n",
       "      <th>claim_date</th>\n",
       "      <th>claim_area</th>\n",
       "      <th>police_report</th>\n",
       "      <th>claim_type</th>\n",
       "      <th>claim_amount</th>\n",
       "      <th>total_policy_claims</th>\n",
       "      <th>fraudulent</th>\n",
       "    </tr>\n",
       "  </thead>\n",
       "  <tbody>\n",
       "    <tr>\n",
       "      <th>0</th>\n",
       "      <td>54004764</td>\n",
       "      <td>21868593</td>\n",
       "      <td>Driver error</td>\n",
       "      <td>11/27/2017</td>\n",
       "      <td>Auto</td>\n",
       "      <td>No</td>\n",
       "      <td>Material only</td>\n",
       "      <td>$2980</td>\n",
       "      <td>1.0</td>\n",
       "      <td>No</td>\n",
       "    </tr>\n",
       "    <tr>\n",
       "      <th>1</th>\n",
       "      <td>33985796</td>\n",
       "      <td>75740424</td>\n",
       "      <td>Crime</td>\n",
       "      <td>10/03/2018</td>\n",
       "      <td>Home</td>\n",
       "      <td>Unknown</td>\n",
       "      <td>Material only</td>\n",
       "      <td>$2980</td>\n",
       "      <td>3.0</td>\n",
       "      <td>No</td>\n",
       "    </tr>\n",
       "  </tbody>\n",
       "</table>\n",
       "</div>"
      ],
      "text/plain": [
       "   claim_id  customer_id incident_cause  claim_date claim_area police_report  \\\n",
       "0  54004764     21868593   Driver error  11/27/2017       Auto            No   \n",
       "1  33985796     75740424          Crime  10/03/2018       Home       Unknown   \n",
       "\n",
       "      claim_type claim_amount  total_policy_claims fraudulent  \n",
       "0  Material only        $2980                  1.0         No  \n",
       "1  Material only        $2980                  3.0         No  "
      ]
     },
     "execution_count": 1062,
     "metadata": {},
     "output_type": "execute_result"
    }
   ],
   "source": [
    "#2)Perform a data audit for the datatypes and find out if there are any mismatch within the current datatypes of the columns and their business significance.\n",
    "\n",
    "claims.head(2)\n"
   ]
  },
  {
   "cell_type": "code",
   "execution_count": 1063,
   "id": "f2a1ae87",
   "metadata": {},
   "outputs": [
    {
     "data": {
      "text/html": [
       "<div>\n",
       "<style scoped>\n",
       "    .dataframe tbody tr th:only-of-type {\n",
       "        vertical-align: middle;\n",
       "    }\n",
       "\n",
       "    .dataframe tbody tr th {\n",
       "        vertical-align: top;\n",
       "    }\n",
       "\n",
       "    .dataframe thead th {\n",
       "        text-align: right;\n",
       "    }\n",
       "</style>\n",
       "<table border=\"1\" class=\"dataframe\">\n",
       "  <thead>\n",
       "    <tr style=\"text-align: right;\">\n",
       "      <th></th>\n",
       "      <th>CUST_ID</th>\n",
       "      <th>gender</th>\n",
       "      <th>DateOfBirth</th>\n",
       "      <th>State</th>\n",
       "      <th>Contact</th>\n",
       "      <th>Segment</th>\n",
       "      <th>claim_id</th>\n",
       "      <th>incident_cause</th>\n",
       "      <th>claim_date</th>\n",
       "      <th>claim_area</th>\n",
       "      <th>police_report</th>\n",
       "      <th>claim_type</th>\n",
       "      <th>claim_amount</th>\n",
       "      <th>total_policy_claims</th>\n",
       "      <th>fraudulent</th>\n",
       "    </tr>\n",
       "  </thead>\n",
       "  <tbody>\n",
       "    <tr>\n",
       "      <th>0</th>\n",
       "      <td>21868593.0</td>\n",
       "      <td>Female</td>\n",
       "      <td>12-Jan-79</td>\n",
       "      <td>VT</td>\n",
       "      <td>789-916-8172</td>\n",
       "      <td>Platinum</td>\n",
       "      <td>54004764.0</td>\n",
       "      <td>Driver error</td>\n",
       "      <td>11/27/2017</td>\n",
       "      <td>Auto</td>\n",
       "      <td>No</td>\n",
       "      <td>Material only</td>\n",
       "      <td>$2980</td>\n",
       "      <td>1.0</td>\n",
       "      <td>No</td>\n",
       "    </tr>\n",
       "    <tr>\n",
       "      <th>1</th>\n",
       "      <td>75740424.0</td>\n",
       "      <td>Female</td>\n",
       "      <td>13-Jan-70</td>\n",
       "      <td>ME</td>\n",
       "      <td>265-543-1264</td>\n",
       "      <td>Silver</td>\n",
       "      <td>33985796.0</td>\n",
       "      <td>Crime</td>\n",
       "      <td>10/03/2018</td>\n",
       "      <td>Home</td>\n",
       "      <td>Unknown</td>\n",
       "      <td>Material only</td>\n",
       "      <td>$2980</td>\n",
       "      <td>3.0</td>\n",
       "      <td>No</td>\n",
       "    </tr>\n",
       "  </tbody>\n",
       "</table>\n",
       "</div>"
      ],
      "text/plain": [
       "      CUST_ID  gender DateOfBirth State       Contact   Segment    claim_id  \\\n",
       "0  21868593.0  Female   12-Jan-79    VT  789-916-8172  Platinum  54004764.0   \n",
       "1  75740424.0  Female   13-Jan-70    ME  265-543-1264    Silver  33985796.0   \n",
       "\n",
       "  incident_cause  claim_date claim_area police_report     claim_type  \\\n",
       "0   Driver error  11/27/2017       Auto            No  Material only   \n",
       "1          Crime  10/03/2018       Home       Unknown  Material only   \n",
       "\n",
       "  claim_amount  total_policy_claims fraudulent  \n",
       "0        $2980                  1.0         No  \n",
       "1        $2980                  3.0         No  "
      ]
     },
     "execution_count": 1063,
     "metadata": {},
     "output_type": "execute_result"
    }
   ],
   "source": [
    "comb_df = pd.merge(right = claims,\n",
    "                   left = demo, \n",
    "                   right_on = \"customer_id\", \n",
    "                   left_on = \"CUST_ID\",\n",
    "                   how = \"outer\"\n",
    "                  )\n",
    "comb_df.drop(columns = [\"customer_id\"], inplace = True)\n",
    "comb_df.head(2)"
   ]
  },
  {
   "cell_type": "code",
   "execution_count": 1064,
   "id": "a7e983f7",
   "metadata": {},
   "outputs": [
    {
     "data": {
      "text/html": [
       "<div>\n",
       "<style scoped>\n",
       "    .dataframe tbody tr th:only-of-type {\n",
       "        vertical-align: middle;\n",
       "    }\n",
       "\n",
       "    .dataframe tbody tr th {\n",
       "        vertical-align: top;\n",
       "    }\n",
       "\n",
       "    .dataframe thead th {\n",
       "        text-align: right;\n",
       "    }\n",
       "</style>\n",
       "<table border=\"1\" class=\"dataframe\">\n",
       "  <thead>\n",
       "    <tr style=\"text-align: right;\">\n",
       "      <th></th>\n",
       "      <th>CUST_ID</th>\n",
       "      <th>gender</th>\n",
       "      <th>DateOfBirth</th>\n",
       "      <th>State</th>\n",
       "      <th>Contact</th>\n",
       "      <th>Segment</th>\n",
       "      <th>claim_id</th>\n",
       "      <th>incident_cause</th>\n",
       "      <th>claim_date</th>\n",
       "      <th>claim_area</th>\n",
       "      <th>police_report</th>\n",
       "      <th>claim_type</th>\n",
       "      <th>claim_amount</th>\n",
       "      <th>total_policy_claims</th>\n",
       "      <th>fraudulent</th>\n",
       "    </tr>\n",
       "  </thead>\n",
       "  <tbody>\n",
       "    <tr>\n",
       "      <th>0</th>\n",
       "      <td>21868593.0</td>\n",
       "      <td>Female</td>\n",
       "      <td>12-Jan-79</td>\n",
       "      <td>VT</td>\n",
       "      <td>789-916-8172</td>\n",
       "      <td>Platinum</td>\n",
       "      <td>54004764.0</td>\n",
       "      <td>Driver error</td>\n",
       "      <td>11/27/2017</td>\n",
       "      <td>Auto</td>\n",
       "      <td>No</td>\n",
       "      <td>Material only</td>\n",
       "      <td>$2980</td>\n",
       "      <td>1.0</td>\n",
       "      <td>No</td>\n",
       "    </tr>\n",
       "    <tr>\n",
       "      <th>1</th>\n",
       "      <td>75740424.0</td>\n",
       "      <td>Female</td>\n",
       "      <td>13-Jan-70</td>\n",
       "      <td>ME</td>\n",
       "      <td>265-543-1264</td>\n",
       "      <td>Silver</td>\n",
       "      <td>33985796.0</td>\n",
       "      <td>Crime</td>\n",
       "      <td>10/03/2018</td>\n",
       "      <td>Home</td>\n",
       "      <td>Unknown</td>\n",
       "      <td>Material only</td>\n",
       "      <td>$2980</td>\n",
       "      <td>3.0</td>\n",
       "      <td>No</td>\n",
       "    </tr>\n",
       "    <tr>\n",
       "      <th>2</th>\n",
       "      <td>30308357.0</td>\n",
       "      <td>Female</td>\n",
       "      <td>11-Mar-84</td>\n",
       "      <td>TN</td>\n",
       "      <td>798-631-4758</td>\n",
       "      <td>Silver</td>\n",
       "      <td>53522022.0</td>\n",
       "      <td>Other driver error</td>\n",
       "      <td>02/02/2018</td>\n",
       "      <td>Auto</td>\n",
       "      <td>No</td>\n",
       "      <td>Material only</td>\n",
       "      <td>$3369.5</td>\n",
       "      <td>1.0</td>\n",
       "      <td>Yes</td>\n",
       "    </tr>\n",
       "    <tr>\n",
       "      <th>3</th>\n",
       "      <td>30308357.0</td>\n",
       "      <td>Female</td>\n",
       "      <td>11-Mar-84</td>\n",
       "      <td>TN</td>\n",
       "      <td>798-631-4758</td>\n",
       "      <td>Silver</td>\n",
       "      <td>63017412.0</td>\n",
       "      <td>Driver error</td>\n",
       "      <td>04/04/2018</td>\n",
       "      <td>Auto</td>\n",
       "      <td>No</td>\n",
       "      <td>Material only</td>\n",
       "      <td>$1950</td>\n",
       "      <td>6.0</td>\n",
       "      <td>No</td>\n",
       "    </tr>\n",
       "    <tr>\n",
       "      <th>4</th>\n",
       "      <td>47830476.0</td>\n",
       "      <td>Female</td>\n",
       "      <td>01-May-86</td>\n",
       "      <td>MA</td>\n",
       "      <td>413-187-7945</td>\n",
       "      <td>Silver</td>\n",
       "      <td>13015401.0</td>\n",
       "      <td>Natural causes</td>\n",
       "      <td>06/17/2018</td>\n",
       "      <td>Auto</td>\n",
       "      <td>No</td>\n",
       "      <td>Material only</td>\n",
       "      <td>$1680</td>\n",
       "      <td>1.0</td>\n",
       "      <td>No</td>\n",
       "    </tr>\n",
       "  </tbody>\n",
       "</table>\n",
       "</div>"
      ],
      "text/plain": [
       "      CUST_ID  gender DateOfBirth State       Contact   Segment    claim_id  \\\n",
       "0  21868593.0  Female   12-Jan-79    VT  789-916-8172  Platinum  54004764.0   \n",
       "1  75740424.0  Female   13-Jan-70    ME  265-543-1264    Silver  33985796.0   \n",
       "2  30308357.0  Female   11-Mar-84    TN  798-631-4758    Silver  53522022.0   \n",
       "3  30308357.0  Female   11-Mar-84    TN  798-631-4758    Silver  63017412.0   \n",
       "4  47830476.0  Female   01-May-86    MA  413-187-7945    Silver  13015401.0   \n",
       "\n",
       "       incident_cause  claim_date claim_area police_report     claim_type  \\\n",
       "0        Driver error  11/27/2017       Auto            No  Material only   \n",
       "1               Crime  10/03/2018       Home       Unknown  Material only   \n",
       "2  Other driver error  02/02/2018       Auto            No  Material only   \n",
       "3        Driver error  04/04/2018       Auto            No  Material only   \n",
       "4      Natural causes  06/17/2018       Auto            No  Material only   \n",
       "\n",
       "  claim_amount  total_policy_claims fraudulent  \n",
       "0        $2980                  1.0         No  \n",
       "1        $2980                  3.0         No  \n",
       "2      $3369.5                  1.0        Yes  \n",
       "3        $1950                  6.0         No  \n",
       "4        $1680                  1.0         No  "
      ]
     },
     "execution_count": 1064,
     "metadata": {},
     "output_type": "execute_result"
    }
   ],
   "source": [
    "comb_df.head()"
   ]
  },
  {
   "cell_type": "code",
   "execution_count": 1065,
   "id": "34bedd05",
   "metadata": {
    "scrolled": true
   },
   "outputs": [
    {
     "name": "stderr",
     "output_type": "stream",
     "text": [
      "C:\\Users\\SENTHIL\\AppData\\Local\\Temp\\ipykernel_7672\\3311623868.py:10: FutureWarning: The default value of regex will change from True to False in a future version. In addition, single character regular expressions will *not* be treated as literal strings when regex=True.\n",
      "  comb_df[\"claim_amount\"] = pd.to_numeric(comb_df.claim_amount.str.replace(\"$\",\"\"),downcast='float')\n"
     ]
    },
    {
     "data": {
      "text/html": [
       "<div>\n",
       "<style scoped>\n",
       "    .dataframe tbody tr th:only-of-type {\n",
       "        vertical-align: middle;\n",
       "    }\n",
       "\n",
       "    .dataframe tbody tr th {\n",
       "        vertical-align: top;\n",
       "    }\n",
       "\n",
       "    .dataframe thead th {\n",
       "        text-align: right;\n",
       "    }\n",
       "</style>\n",
       "<table border=\"1\" class=\"dataframe\">\n",
       "  <thead>\n",
       "    <tr style=\"text-align: right;\">\n",
       "      <th></th>\n",
       "      <th>CUST_ID</th>\n",
       "      <th>gender</th>\n",
       "      <th>DateOfBirth</th>\n",
       "      <th>State</th>\n",
       "      <th>Contact</th>\n",
       "      <th>Segment</th>\n",
       "      <th>claim_id</th>\n",
       "      <th>incident_cause</th>\n",
       "      <th>claim_date</th>\n",
       "      <th>claim_area</th>\n",
       "      <th>police_report</th>\n",
       "      <th>claim_type</th>\n",
       "      <th>claim_amount</th>\n",
       "      <th>total_policy_claims</th>\n",
       "      <th>fraudulent</th>\n",
       "    </tr>\n",
       "  </thead>\n",
       "  <tbody>\n",
       "    <tr>\n",
       "      <th>0</th>\n",
       "      <td>21868593.0</td>\n",
       "      <td>Female</td>\n",
       "      <td>1979-01-12</td>\n",
       "      <td>VT</td>\n",
       "      <td>7.899168e+09</td>\n",
       "      <td>Platinum</td>\n",
       "      <td>54004764.0</td>\n",
       "      <td>Driver error</td>\n",
       "      <td>2017-11-27</td>\n",
       "      <td>Auto</td>\n",
       "      <td>No</td>\n",
       "      <td>Material only</td>\n",
       "      <td>2980.0</td>\n",
       "      <td>1.0</td>\n",
       "      <td>No</td>\n",
       "    </tr>\n",
       "    <tr>\n",
       "      <th>1</th>\n",
       "      <td>75740424.0</td>\n",
       "      <td>Female</td>\n",
       "      <td>1970-01-13</td>\n",
       "      <td>ME</td>\n",
       "      <td>2.655431e+09</td>\n",
       "      <td>Silver</td>\n",
       "      <td>33985796.0</td>\n",
       "      <td>Crime</td>\n",
       "      <td>2018-10-03</td>\n",
       "      <td>Home</td>\n",
       "      <td>Unknown</td>\n",
       "      <td>Material only</td>\n",
       "      <td>2980.0</td>\n",
       "      <td>3.0</td>\n",
       "      <td>No</td>\n",
       "    </tr>\n",
       "    <tr>\n",
       "      <th>2</th>\n",
       "      <td>30308357.0</td>\n",
       "      <td>Female</td>\n",
       "      <td>1984-03-11</td>\n",
       "      <td>TN</td>\n",
       "      <td>7.986315e+09</td>\n",
       "      <td>Silver</td>\n",
       "      <td>53522022.0</td>\n",
       "      <td>Other driver error</td>\n",
       "      <td>2018-02-02</td>\n",
       "      <td>Auto</td>\n",
       "      <td>No</td>\n",
       "      <td>Material only</td>\n",
       "      <td>3369.5</td>\n",
       "      <td>1.0</td>\n",
       "      <td>Yes</td>\n",
       "    </tr>\n",
       "    <tr>\n",
       "      <th>3</th>\n",
       "      <td>30308357.0</td>\n",
       "      <td>Female</td>\n",
       "      <td>1984-03-11</td>\n",
       "      <td>TN</td>\n",
       "      <td>7.986315e+09</td>\n",
       "      <td>Silver</td>\n",
       "      <td>63017412.0</td>\n",
       "      <td>Driver error</td>\n",
       "      <td>2018-04-04</td>\n",
       "      <td>Auto</td>\n",
       "      <td>No</td>\n",
       "      <td>Material only</td>\n",
       "      <td>1950.0</td>\n",
       "      <td>6.0</td>\n",
       "      <td>No</td>\n",
       "    </tr>\n",
       "    <tr>\n",
       "      <th>4</th>\n",
       "      <td>47830476.0</td>\n",
       "      <td>Female</td>\n",
       "      <td>1986-05-01</td>\n",
       "      <td>MA</td>\n",
       "      <td>4.131878e+09</td>\n",
       "      <td>Silver</td>\n",
       "      <td>13015401.0</td>\n",
       "      <td>Natural causes</td>\n",
       "      <td>2018-06-17</td>\n",
       "      <td>Auto</td>\n",
       "      <td>No</td>\n",
       "      <td>Material only</td>\n",
       "      <td>1680.0</td>\n",
       "      <td>1.0</td>\n",
       "      <td>No</td>\n",
       "    </tr>\n",
       "  </tbody>\n",
       "</table>\n",
       "</div>"
      ],
      "text/plain": [
       "      CUST_ID  gender DateOfBirth State       Contact   Segment    claim_id  \\\n",
       "0  21868593.0  Female  1979-01-12    VT  7.899168e+09  Platinum  54004764.0   \n",
       "1  75740424.0  Female  1970-01-13    ME  2.655431e+09    Silver  33985796.0   \n",
       "2  30308357.0  Female  1984-03-11    TN  7.986315e+09    Silver  53522022.0   \n",
       "3  30308357.0  Female  1984-03-11    TN  7.986315e+09    Silver  63017412.0   \n",
       "4  47830476.0  Female  1986-05-01    MA  4.131878e+09    Silver  13015401.0   \n",
       "\n",
       "       incident_cause claim_date claim_area police_report     claim_type  \\\n",
       "0        Driver error 2017-11-27       Auto            No  Material only   \n",
       "1               Crime 2018-10-03       Home       Unknown  Material only   \n",
       "2  Other driver error 2018-02-02       Auto            No  Material only   \n",
       "3        Driver error 2018-04-04       Auto            No  Material only   \n",
       "4      Natural causes 2018-06-17       Auto            No  Material only   \n",
       "\n",
       "   claim_amount  total_policy_claims fraudulent  \n",
       "0        2980.0                  1.0         No  \n",
       "1        2980.0                  3.0         No  \n",
       "2        3369.5                  1.0        Yes  \n",
       "3        1950.0                  6.0         No  \n",
       "4        1680.0                  1.0         No  "
      ]
     },
     "execution_count": 1065,
     "metadata": {},
     "output_type": "execute_result"
    }
   ],
   "source": [
    "#3)Convert the column claim_amount to numeric. Use the appropriate modules/attributes to remove the $ sign.\n",
    "\n",
    "\n",
    "\n",
    "\n",
    "comb_df[\"DateOfBirth\"] = pd.to_datetime(comb_df.DateOfBirth, format = \"%d-%b-%y\")\n",
    "comb_df.loc[(comb_df.DateOfBirth.dt.year > 2020),\"DateOfBirth\"]=comb_df[comb_df.DateOfBirth.dt.year > 2020][\"DateOfBirth\"].apply(lambda x: x - pd.DateOffset(years=100))\n",
    "comb_df[\"claim_date\"] = pd.to_datetime(comb_df.claim_date, format = \"%m/%d/%Y\")\n",
    "comb_df[\"Contact\"] = pd.to_numeric(comb_df.Contact.str.replace(\"-\",\"\"),downcast='float')\n",
    "comb_df[\"claim_amount\"] = pd.to_numeric(comb_df.claim_amount.str.replace(\"$\",\"\"),downcast='float')\n",
    "comb_df.head()"
   ]
  },
  {
   "cell_type": "code",
   "execution_count": 1066,
   "id": "22307640",
   "metadata": {},
   "outputs": [
    {
     "data": {
      "text/plain": [
       "CUST_ID                       float64\n",
       "gender                         object\n",
       "DateOfBirth            datetime64[ns]\n",
       "State                          object\n",
       "Contact                       float32\n",
       "Segment                        object\n",
       "claim_id                      float64\n",
       "incident_cause                 object\n",
       "claim_date             datetime64[ns]\n",
       "claim_area                     object\n",
       "police_report                  object\n",
       "claim_type                     object\n",
       "claim_amount                  float32\n",
       "total_policy_claims           float64\n",
       "fraudulent                     object\n",
       "dtype: object"
      ]
     },
     "execution_count": 1066,
     "metadata": {},
     "output_type": "execute_result"
    }
   ],
   "source": [
    "comb_df.dtypes"
   ]
  },
  {
   "cell_type": "code",
   "execution_count": 1067,
   "id": "63d49a61",
   "metadata": {},
   "outputs": [],
   "source": [
    "#4)Of all the injury claims, some of them have gone unreported with the police. Create an alert flag (1,0) for all such claims.\n",
    "\n",
    "comb_df[\"flag\"] = IF(comb_df.police_report == \"No\", 0 ,\n",
    "                    IF(comb_df.police_report == \"Yes\", 1, np.nan))\n",
    "comb_df.drop(columns = [\"police_report\"], inplace = True)"
   ]
  },
  {
   "cell_type": "code",
   "execution_count": 1068,
   "id": "a95eb447",
   "metadata": {},
   "outputs": [],
   "source": [
    "#5)One customer can claim for insurance more than once and in each claim, multiple categories of claims can be involved. However, customer ID should remain unique. Retain the most recent observation and delete any duplicated records in the data based on the customer ID column\n",
    "\n",
    "\n",
    "comb_df = comb_df.groupby('CUST_ID').first().reset_index(drop = True)"
   ]
  },
  {
   "cell_type": "code",
   "execution_count": 1069,
   "id": "b7cf7819",
   "metadata": {},
   "outputs": [
    {
     "data": {
      "text/html": [
       "<div>\n",
       "<style scoped>\n",
       "    .dataframe tbody tr th:only-of-type {\n",
       "        vertical-align: middle;\n",
       "    }\n",
       "\n",
       "    .dataframe tbody tr th {\n",
       "        vertical-align: top;\n",
       "    }\n",
       "\n",
       "    .dataframe thead th {\n",
       "        text-align: right;\n",
       "    }\n",
       "</style>\n",
       "<table border=\"1\" class=\"dataframe\">\n",
       "  <thead>\n",
       "    <tr style=\"text-align: right;\">\n",
       "      <th></th>\n",
       "      <th>gender</th>\n",
       "      <th>DateOfBirth</th>\n",
       "      <th>State</th>\n",
       "      <th>Contact</th>\n",
       "      <th>Segment</th>\n",
       "      <th>claim_id</th>\n",
       "      <th>incident_cause</th>\n",
       "      <th>claim_date</th>\n",
       "      <th>claim_area</th>\n",
       "      <th>claim_type</th>\n",
       "      <th>claim_amount</th>\n",
       "      <th>total_policy_claims</th>\n",
       "      <th>fraudulent</th>\n",
       "      <th>flag</th>\n",
       "    </tr>\n",
       "  </thead>\n",
       "  <tbody>\n",
       "    <tr>\n",
       "      <th>0</th>\n",
       "      <td>Female</td>\n",
       "      <td>1978-05-23</td>\n",
       "      <td>DE</td>\n",
       "      <td>9.628791e+09</td>\n",
       "      <td>Platinum</td>\n",
       "      <td>69348631.0</td>\n",
       "      <td>Driver error</td>\n",
       "      <td>2018-04-10</td>\n",
       "      <td>Auto</td>\n",
       "      <td>Injury only</td>\n",
       "      <td>NaN</td>\n",
       "      <td>1.0</td>\n",
       "      <td>Yes</td>\n",
       "      <td>0.0</td>\n",
       "    </tr>\n",
       "    <tr>\n",
       "      <th>1</th>\n",
       "      <td>Male</td>\n",
       "      <td>1972-12-20</td>\n",
       "      <td>TX</td>\n",
       "      <td>1.738926e+09</td>\n",
       "      <td>Silver</td>\n",
       "      <td>40953049.0</td>\n",
       "      <td>Other causes</td>\n",
       "      <td>2018-04-04</td>\n",
       "      <td>Auto</td>\n",
       "      <td>Material and injury</td>\n",
       "      <td>39192.0</td>\n",
       "      <td>1.0</td>\n",
       "      <td>Yes</td>\n",
       "      <td>0.0</td>\n",
       "    </tr>\n",
       "    <tr>\n",
       "      <th>2</th>\n",
       "      <td>Male</td>\n",
       "      <td>1988-07-28</td>\n",
       "      <td>FL</td>\n",
       "      <td>3.645981e+09</td>\n",
       "      <td>Silver</td>\n",
       "      <td>45780237.0</td>\n",
       "      <td>Natural causes</td>\n",
       "      <td>2017-10-17</td>\n",
       "      <td>Auto</td>\n",
       "      <td>Material only</td>\n",
       "      <td>1621.5</td>\n",
       "      <td>2.0</td>\n",
       "      <td>Yes</td>\n",
       "      <td>NaN</td>\n",
       "    </tr>\n",
       "    <tr>\n",
       "      <th>3</th>\n",
       "      <td>Male</td>\n",
       "      <td>1971-08-19</td>\n",
       "      <td>CA</td>\n",
       "      <td>1.873488e+09</td>\n",
       "      <td>Gold</td>\n",
       "      <td>89833962.0</td>\n",
       "      <td>Other causes</td>\n",
       "      <td>2018-03-21</td>\n",
       "      <td>Auto</td>\n",
       "      <td>Material and injury</td>\n",
       "      <td>37040.0</td>\n",
       "      <td>1.0</td>\n",
       "      <td>No</td>\n",
       "      <td>1.0</td>\n",
       "    </tr>\n",
       "    <tr>\n",
       "      <th>4</th>\n",
       "      <td>Female</td>\n",
       "      <td>1980-08-10</td>\n",
       "      <td>NC</td>\n",
       "      <td>7.988625e+09</td>\n",
       "      <td>Gold</td>\n",
       "      <td>35782742.0</td>\n",
       "      <td>Other driver error</td>\n",
       "      <td>2018-07-27</td>\n",
       "      <td>Auto</td>\n",
       "      <td>Injury only</td>\n",
       "      <td>35250.0</td>\n",
       "      <td>3.0</td>\n",
       "      <td>No</td>\n",
       "      <td>0.0</td>\n",
       "    </tr>\n",
       "  </tbody>\n",
       "</table>\n",
       "</div>"
      ],
      "text/plain": [
       "   gender DateOfBirth State       Contact   Segment    claim_id  \\\n",
       "0  Female  1978-05-23    DE  9.628791e+09  Platinum  69348631.0   \n",
       "1    Male  1972-12-20    TX  1.738926e+09    Silver  40953049.0   \n",
       "2    Male  1988-07-28    FL  3.645981e+09    Silver  45780237.0   \n",
       "3    Male  1971-08-19    CA  1.873488e+09      Gold  89833962.0   \n",
       "4  Female  1980-08-10    NC  7.988625e+09      Gold  35782742.0   \n",
       "\n",
       "       incident_cause claim_date claim_area           claim_type  \\\n",
       "0        Driver error 2018-04-10       Auto          Injury only   \n",
       "1        Other causes 2018-04-04       Auto  Material and injury   \n",
       "2      Natural causes 2017-10-17       Auto        Material only   \n",
       "3        Other causes 2018-03-21       Auto  Material and injury   \n",
       "4  Other driver error 2018-07-27       Auto          Injury only   \n",
       "\n",
       "   claim_amount  total_policy_claims fraudulent  flag  \n",
       "0           NaN                  1.0        Yes   0.0  \n",
       "1       39192.0                  1.0        Yes   0.0  \n",
       "2        1621.5                  2.0        Yes   NaN  \n",
       "3       37040.0                  1.0         No   1.0  \n",
       "4       35250.0                  3.0         No   0.0  "
      ]
     },
     "execution_count": 1069,
     "metadata": {},
     "output_type": "execute_result"
    }
   ],
   "source": [
    "comb_df.head()"
   ]
  },
  {
   "cell_type": "code",
   "execution_count": 1070,
   "id": "4fd0a3a6",
   "metadata": {},
   "outputs": [
    {
     "data": {
      "text/plain": [
       "gender                   0\n",
       "DateOfBirth              0\n",
       "State                    0\n",
       "Contact                  0\n",
       "Segment                  0\n",
       "claim_id                 7\n",
       "incident_cause           7\n",
       "claim_date               7\n",
       "claim_area               7\n",
       "claim_type               7\n",
       "claim_amount            72\n",
       "total_policy_claims     17\n",
       "fraudulent               7\n",
       "flag                   299\n",
       "dtype: int64"
      ]
     },
     "execution_count": 1070,
     "metadata": {},
     "output_type": "execute_result"
    }
   ],
   "source": [
    "#6)Check for missing values and impute the missing values with an appropriate value. (mean for continuous and mode for categorical)\n",
    "\n",
    "comb_df.isna().sum()"
   ]
  },
  {
   "cell_type": "code",
   "execution_count": 1071,
   "id": "7ab66090",
   "metadata": {},
   "outputs": [],
   "source": [
    "catagorical_col = [\"gender\",\"State\",\"Segment\",\"incident_cause\",\"claim_area\",\"claim_type\",\"fraudulent\",\"flag\"]\n",
    "continious_col = [\"claim_amount\"]"
   ]
  },
  {
   "cell_type": "code",
   "execution_count": 1072,
   "id": "21e7c467",
   "metadata": {},
   "outputs": [
    {
     "data": {
      "text/html": [
       "<div>\n",
       "<style scoped>\n",
       "    .dataframe tbody tr th:only-of-type {\n",
       "        vertical-align: middle;\n",
       "    }\n",
       "\n",
       "    .dataframe tbody tr th {\n",
       "        vertical-align: top;\n",
       "    }\n",
       "\n",
       "    .dataframe thead th {\n",
       "        text-align: right;\n",
       "    }\n",
       "</style>\n",
       "<table border=\"1\" class=\"dataframe\">\n",
       "  <thead>\n",
       "    <tr style=\"text-align: right;\">\n",
       "      <th></th>\n",
       "      <th>gender</th>\n",
       "      <th>DateOfBirth</th>\n",
       "      <th>State</th>\n",
       "      <th>Contact</th>\n",
       "      <th>Segment</th>\n",
       "      <th>claim_id</th>\n",
       "      <th>incident_cause</th>\n",
       "      <th>claim_date</th>\n",
       "      <th>claim_area</th>\n",
       "      <th>claim_type</th>\n",
       "      <th>claim_amount</th>\n",
       "      <th>total_policy_claims</th>\n",
       "      <th>fraudulent</th>\n",
       "      <th>flag</th>\n",
       "    </tr>\n",
       "  </thead>\n",
       "  <tbody>\n",
       "    <tr>\n",
       "      <th>0</th>\n",
       "      <td>Female</td>\n",
       "      <td>1978-05-23</td>\n",
       "      <td>DE</td>\n",
       "      <td>9.628791e+09</td>\n",
       "      <td>Platinum</td>\n",
       "      <td>69348631.0</td>\n",
       "      <td>Driver error</td>\n",
       "      <td>2018-04-10</td>\n",
       "      <td>Auto</td>\n",
       "      <td>Injury only</td>\n",
       "      <td>12470.501953</td>\n",
       "      <td>1.0</td>\n",
       "      <td>Yes</td>\n",
       "      <td>0.0</td>\n",
       "    </tr>\n",
       "    <tr>\n",
       "      <th>1</th>\n",
       "      <td>Male</td>\n",
       "      <td>1972-12-20</td>\n",
       "      <td>TX</td>\n",
       "      <td>1.738926e+09</td>\n",
       "      <td>Silver</td>\n",
       "      <td>40953049.0</td>\n",
       "      <td>Other causes</td>\n",
       "      <td>2018-04-04</td>\n",
       "      <td>Auto</td>\n",
       "      <td>Material and injury</td>\n",
       "      <td>39192.000000</td>\n",
       "      <td>1.0</td>\n",
       "      <td>Yes</td>\n",
       "      <td>0.0</td>\n",
       "    </tr>\n",
       "    <tr>\n",
       "      <th>2</th>\n",
       "      <td>Male</td>\n",
       "      <td>1988-07-28</td>\n",
       "      <td>FL</td>\n",
       "      <td>3.645981e+09</td>\n",
       "      <td>Silver</td>\n",
       "      <td>45780237.0</td>\n",
       "      <td>Natural causes</td>\n",
       "      <td>2017-10-17</td>\n",
       "      <td>Auto</td>\n",
       "      <td>Material only</td>\n",
       "      <td>1621.500000</td>\n",
       "      <td>2.0</td>\n",
       "      <td>Yes</td>\n",
       "      <td>0.0</td>\n",
       "    </tr>\n",
       "    <tr>\n",
       "      <th>3</th>\n",
       "      <td>Male</td>\n",
       "      <td>1971-08-19</td>\n",
       "      <td>CA</td>\n",
       "      <td>1.873488e+09</td>\n",
       "      <td>Gold</td>\n",
       "      <td>89833962.0</td>\n",
       "      <td>Other causes</td>\n",
       "      <td>2018-03-21</td>\n",
       "      <td>Auto</td>\n",
       "      <td>Material and injury</td>\n",
       "      <td>37040.000000</td>\n",
       "      <td>1.0</td>\n",
       "      <td>No</td>\n",
       "      <td>1.0</td>\n",
       "    </tr>\n",
       "    <tr>\n",
       "      <th>4</th>\n",
       "      <td>Female</td>\n",
       "      <td>1980-08-10</td>\n",
       "      <td>NC</td>\n",
       "      <td>7.988625e+09</td>\n",
       "      <td>Gold</td>\n",
       "      <td>35782742.0</td>\n",
       "      <td>Other driver error</td>\n",
       "      <td>2018-07-27</td>\n",
       "      <td>Auto</td>\n",
       "      <td>Injury only</td>\n",
       "      <td>35250.000000</td>\n",
       "      <td>3.0</td>\n",
       "      <td>No</td>\n",
       "      <td>0.0</td>\n",
       "    </tr>\n",
       "  </tbody>\n",
       "</table>\n",
       "</div>"
      ],
      "text/plain": [
       "   gender DateOfBirth State       Contact   Segment    claim_id  \\\n",
       "0  Female  1978-05-23    DE  9.628791e+09  Platinum  69348631.0   \n",
       "1    Male  1972-12-20    TX  1.738926e+09    Silver  40953049.0   \n",
       "2    Male  1988-07-28    FL  3.645981e+09    Silver  45780237.0   \n",
       "3    Male  1971-08-19    CA  1.873488e+09      Gold  89833962.0   \n",
       "4  Female  1980-08-10    NC  7.988625e+09      Gold  35782742.0   \n",
       "\n",
       "       incident_cause claim_date claim_area           claim_type  \\\n",
       "0        Driver error 2018-04-10       Auto          Injury only   \n",
       "1        Other causes 2018-04-04       Auto  Material and injury   \n",
       "2      Natural causes 2017-10-17       Auto        Material only   \n",
       "3        Other causes 2018-03-21       Auto  Material and injury   \n",
       "4  Other driver error 2018-07-27       Auto          Injury only   \n",
       "\n",
       "   claim_amount  total_policy_claims fraudulent  flag  \n",
       "0  12470.501953                  1.0        Yes   0.0  \n",
       "1  39192.000000                  1.0        Yes   0.0  \n",
       "2   1621.500000                  2.0        Yes   0.0  \n",
       "3  37040.000000                  1.0         No   1.0  \n",
       "4  35250.000000                  3.0         No   0.0  "
      ]
     },
     "execution_count": 1072,
     "metadata": {},
     "output_type": "execute_result"
    }
   ],
   "source": [
    "for col in catagorical_col:\n",
    "    comb_df[col] = comb_df[col].fillna(comb_df[col].mode()[0])\n",
    "comb_df[continious_col] = comb_df[continious_col].fillna(comb_df[continious_col].mean())\n",
    "comb_df.head()"
   ]
  },
  {
   "cell_type": "code",
   "execution_count": 1073,
   "id": "4750697a",
   "metadata": {},
   "outputs": [
    {
     "data": {
      "text/plain": [
       "gender                  0\n",
       "DateOfBirth             0\n",
       "State                   0\n",
       "Contact                 0\n",
       "Segment                 0\n",
       "claim_id                7\n",
       "incident_cause          0\n",
       "claim_date              7\n",
       "claim_area              0\n",
       "claim_type              0\n",
       "claim_amount            0\n",
       "total_policy_claims    17\n",
       "fraudulent              0\n",
       "flag                    0\n",
       "dtype: int64"
      ]
     },
     "execution_count": 1073,
     "metadata": {},
     "output_type": "execute_result"
    }
   ],
   "source": [
    "comb_df.isna().sum()"
   ]
  },
  {
   "cell_type": "code",
   "execution_count": 1074,
   "id": "48a25b98",
   "metadata": {},
   "outputs": [],
   "source": [
    "#7)Calculate the age of customers in years. Based on the age, categorize the customers according to the below criteria Children < 18Youth 18-30 Adult 30-60 Senior > 60\n",
    "\n",
    "\n",
    "comb_df[\"Age\"] = round((comb_df.claim_date - comb_df.DateOfBirth).apply(lambda x: x.days)/365.25, 0)"
   ]
  },
  {
   "cell_type": "code",
   "execution_count": 1075,
   "id": "3d03dbd0",
   "metadata": {},
   "outputs": [
    {
     "data": {
      "text/html": [
       "<div>\n",
       "<style scoped>\n",
       "    .dataframe tbody tr th:only-of-type {\n",
       "        vertical-align: middle;\n",
       "    }\n",
       "\n",
       "    .dataframe tbody tr th {\n",
       "        vertical-align: top;\n",
       "    }\n",
       "\n",
       "    .dataframe thead th {\n",
       "        text-align: right;\n",
       "    }\n",
       "</style>\n",
       "<table border=\"1\" class=\"dataframe\">\n",
       "  <thead>\n",
       "    <tr style=\"text-align: right;\">\n",
       "      <th></th>\n",
       "      <th>gender</th>\n",
       "      <th>DateOfBirth</th>\n",
       "      <th>State</th>\n",
       "      <th>Contact</th>\n",
       "      <th>Segment</th>\n",
       "      <th>claim_id</th>\n",
       "      <th>incident_cause</th>\n",
       "      <th>claim_date</th>\n",
       "      <th>claim_area</th>\n",
       "      <th>claim_type</th>\n",
       "      <th>claim_amount</th>\n",
       "      <th>total_policy_claims</th>\n",
       "      <th>fraudulent</th>\n",
       "      <th>flag</th>\n",
       "      <th>Age</th>\n",
       "    </tr>\n",
       "  </thead>\n",
       "  <tbody>\n",
       "    <tr>\n",
       "      <th>0</th>\n",
       "      <td>Female</td>\n",
       "      <td>1978-05-23</td>\n",
       "      <td>DE</td>\n",
       "      <td>9.628791e+09</td>\n",
       "      <td>Platinum</td>\n",
       "      <td>69348631.0</td>\n",
       "      <td>Driver error</td>\n",
       "      <td>2018-04-10</td>\n",
       "      <td>Auto</td>\n",
       "      <td>Injury only</td>\n",
       "      <td>12470.501953</td>\n",
       "      <td>1.0</td>\n",
       "      <td>Yes</td>\n",
       "      <td>0.0</td>\n",
       "      <td>40.0</td>\n",
       "    </tr>\n",
       "    <tr>\n",
       "      <th>1</th>\n",
       "      <td>Male</td>\n",
       "      <td>1972-12-20</td>\n",
       "      <td>TX</td>\n",
       "      <td>1.738926e+09</td>\n",
       "      <td>Silver</td>\n",
       "      <td>40953049.0</td>\n",
       "      <td>Other causes</td>\n",
       "      <td>2018-04-04</td>\n",
       "      <td>Auto</td>\n",
       "      <td>Material and injury</td>\n",
       "      <td>39192.000000</td>\n",
       "      <td>1.0</td>\n",
       "      <td>Yes</td>\n",
       "      <td>0.0</td>\n",
       "      <td>45.0</td>\n",
       "    </tr>\n",
       "    <tr>\n",
       "      <th>2</th>\n",
       "      <td>Male</td>\n",
       "      <td>1988-07-28</td>\n",
       "      <td>FL</td>\n",
       "      <td>3.645981e+09</td>\n",
       "      <td>Silver</td>\n",
       "      <td>45780237.0</td>\n",
       "      <td>Natural causes</td>\n",
       "      <td>2017-10-17</td>\n",
       "      <td>Auto</td>\n",
       "      <td>Material only</td>\n",
       "      <td>1621.500000</td>\n",
       "      <td>2.0</td>\n",
       "      <td>Yes</td>\n",
       "      <td>0.0</td>\n",
       "      <td>29.0</td>\n",
       "    </tr>\n",
       "  </tbody>\n",
       "</table>\n",
       "</div>"
      ],
      "text/plain": [
       "   gender DateOfBirth State       Contact   Segment    claim_id  \\\n",
       "0  Female  1978-05-23    DE  9.628791e+09  Platinum  69348631.0   \n",
       "1    Male  1972-12-20    TX  1.738926e+09    Silver  40953049.0   \n",
       "2    Male  1988-07-28    FL  3.645981e+09    Silver  45780237.0   \n",
       "\n",
       "   incident_cause claim_date claim_area           claim_type  claim_amount  \\\n",
       "0    Driver error 2018-04-10       Auto          Injury only  12470.501953   \n",
       "1    Other causes 2018-04-04       Auto  Material and injury  39192.000000   \n",
       "2  Natural causes 2017-10-17       Auto        Material only   1621.500000   \n",
       "\n",
       "   total_policy_claims fraudulent  flag   Age  \n",
       "0                  1.0        Yes   0.0  40.0  \n",
       "1                  1.0        Yes   0.0  45.0  \n",
       "2                  2.0        Yes   0.0  29.0  "
      ]
     },
     "execution_count": 1075,
     "metadata": {},
     "output_type": "execute_result"
    }
   ],
   "source": [
    "comb_df.head(3)"
   ]
  },
  {
   "cell_type": "code",
   "execution_count": 1076,
   "id": "43e98b3f",
   "metadata": {},
   "outputs": [
    {
     "data": {
      "text/html": [
       "<div>\n",
       "<style scoped>\n",
       "    .dataframe tbody tr th:only-of-type {\n",
       "        vertical-align: middle;\n",
       "    }\n",
       "\n",
       "    .dataframe tbody tr th {\n",
       "        vertical-align: top;\n",
       "    }\n",
       "\n",
       "    .dataframe thead th {\n",
       "        text-align: right;\n",
       "    }\n",
       "</style>\n",
       "<table border=\"1\" class=\"dataframe\">\n",
       "  <thead>\n",
       "    <tr style=\"text-align: right;\">\n",
       "      <th></th>\n",
       "      <th>gender</th>\n",
       "      <th>DateOfBirth</th>\n",
       "      <th>State</th>\n",
       "      <th>Contact</th>\n",
       "      <th>Segment</th>\n",
       "      <th>claim_id</th>\n",
       "      <th>incident_cause</th>\n",
       "      <th>claim_date</th>\n",
       "      <th>claim_area</th>\n",
       "      <th>claim_type</th>\n",
       "      <th>claim_amount</th>\n",
       "      <th>total_policy_claims</th>\n",
       "      <th>fraudulent</th>\n",
       "      <th>flag</th>\n",
       "      <th>Age</th>\n",
       "    </tr>\n",
       "    <tr>\n",
       "      <th>Age_grp</th>\n",
       "      <th></th>\n",
       "      <th></th>\n",
       "      <th></th>\n",
       "      <th></th>\n",
       "      <th></th>\n",
       "      <th></th>\n",
       "      <th></th>\n",
       "      <th></th>\n",
       "      <th></th>\n",
       "      <th></th>\n",
       "      <th></th>\n",
       "      <th></th>\n",
       "      <th></th>\n",
       "      <th></th>\n",
       "      <th></th>\n",
       "    </tr>\n",
       "  </thead>\n",
       "  <tbody>\n",
       "    <tr>\n",
       "      <th>Adult</th>\n",
       "      <td>758</td>\n",
       "      <td>758</td>\n",
       "      <td>758</td>\n",
       "      <td>758</td>\n",
       "      <td>758</td>\n",
       "      <td>758</td>\n",
       "      <td>758</td>\n",
       "      <td>758</td>\n",
       "      <td>758</td>\n",
       "      <td>758</td>\n",
       "      <td>758</td>\n",
       "      <td>750</td>\n",
       "      <td>758</td>\n",
       "      <td>758</td>\n",
       "      <td>758</td>\n",
       "    </tr>\n",
       "    <tr>\n",
       "      <th>Children</th>\n",
       "      <td>2</td>\n",
       "      <td>2</td>\n",
       "      <td>2</td>\n",
       "      <td>2</td>\n",
       "      <td>2</td>\n",
       "      <td>2</td>\n",
       "      <td>2</td>\n",
       "      <td>2</td>\n",
       "      <td>2</td>\n",
       "      <td>2</td>\n",
       "      <td>2</td>\n",
       "      <td>2</td>\n",
       "      <td>2</td>\n",
       "      <td>2</td>\n",
       "      <td>2</td>\n",
       "    </tr>\n",
       "    <tr>\n",
       "      <th>NaN</th>\n",
       "      <td>7</td>\n",
       "      <td>7</td>\n",
       "      <td>7</td>\n",
       "      <td>7</td>\n",
       "      <td>7</td>\n",
       "      <td>0</td>\n",
       "      <td>7</td>\n",
       "      <td>0</td>\n",
       "      <td>7</td>\n",
       "      <td>7</td>\n",
       "      <td>7</td>\n",
       "      <td>0</td>\n",
       "      <td>7</td>\n",
       "      <td>7</td>\n",
       "      <td>0</td>\n",
       "    </tr>\n",
       "    <tr>\n",
       "      <th>Youth</th>\n",
       "      <td>318</td>\n",
       "      <td>318</td>\n",
       "      <td>318</td>\n",
       "      <td>318</td>\n",
       "      <td>318</td>\n",
       "      <td>318</td>\n",
       "      <td>318</td>\n",
       "      <td>318</td>\n",
       "      <td>318</td>\n",
       "      <td>318</td>\n",
       "      <td>318</td>\n",
       "      <td>316</td>\n",
       "      <td>318</td>\n",
       "      <td>318</td>\n",
       "      <td>318</td>\n",
       "    </tr>\n",
       "  </tbody>\n",
       "</table>\n",
       "</div>"
      ],
      "text/plain": [
       "          gender  DateOfBirth  State  Contact  Segment  claim_id  \\\n",
       "Age_grp                                                            \n",
       "Adult        758          758    758      758      758       758   \n",
       "Children       2            2      2        2        2         2   \n",
       "NaN            7            7      7        7        7         0   \n",
       "Youth        318          318    318      318      318       318   \n",
       "\n",
       "          incident_cause  claim_date  claim_area  claim_type  claim_amount  \\\n",
       "Age_grp                                                                      \n",
       "Adult                758         758         758         758           758   \n",
       "Children               2           2           2           2             2   \n",
       "NaN                    7           0           7           7             7   \n",
       "Youth                318         318         318         318           318   \n",
       "\n",
       "          total_policy_claims  fraudulent  flag  Age  \n",
       "Age_grp                                               \n",
       "Adult                     750         758   758  758  \n",
       "Children                    2           2     2    2  \n",
       "NaN                         0           7     7    0  \n",
       "Youth                     316         318   318  318  "
      ]
     },
     "execution_count": 1076,
     "metadata": {},
     "output_type": "execute_result"
    }
   ],
   "source": [
    "comb_df[\"Age_grp\"] = IF(comb_df.Age < 18, \"Children\",\n",
    "                        IF(comb_df.Age < 30, \"Youth\",\n",
    "                         IF(comb_df.Age < 60, \"Adult\",\n",
    "                          IF(comb_df.Age < 100, \"Senior\", \"NaN\"\n",
    "                           \n",
    "                          )\n",
    "                         )\n",
    "                        )\n",
    "                       )\n",
    "comb_df[\"Age_grp\"] = comb_df[\"Age_grp\"].fillna(comb_df[\"Age_grp\"].mode())\n",
    "comb_df.groupby(by = \"Age_grp\").count()"
   ]
  },
  {
   "cell_type": "code",
   "execution_count": 1077,
   "id": "b2228a38",
   "metadata": {},
   "outputs": [
    {
     "data": {
      "text/html": [
       "<div>\n",
       "<style scoped>\n",
       "    .dataframe tbody tr th:only-of-type {\n",
       "        vertical-align: middle;\n",
       "    }\n",
       "\n",
       "    .dataframe tbody tr th {\n",
       "        vertical-align: top;\n",
       "    }\n",
       "\n",
       "    .dataframe thead th {\n",
       "        text-align: right;\n",
       "    }\n",
       "</style>\n",
       "<table border=\"1\" class=\"dataframe\">\n",
       "  <thead>\n",
       "    <tr style=\"text-align: right;\">\n",
       "      <th></th>\n",
       "      <th>claim_amount</th>\n",
       "    </tr>\n",
       "    <tr>\n",
       "      <th>Segment</th>\n",
       "      <th></th>\n",
       "    </tr>\n",
       "  </thead>\n",
       "  <tbody>\n",
       "    <tr>\n",
       "      <th>Gold</th>\n",
       "      <td>12755.710938</td>\n",
       "    </tr>\n",
       "    <tr>\n",
       "      <th>Platinum</th>\n",
       "      <td>12370.138672</td>\n",
       "    </tr>\n",
       "    <tr>\n",
       "      <th>Silver</th>\n",
       "      <td>12271.163086</td>\n",
       "    </tr>\n",
       "  </tbody>\n",
       "</table>\n",
       "</div>"
      ],
      "text/plain": [
       "          claim_amount\n",
       "Segment               \n",
       "Gold      12755.710938\n",
       "Platinum  12370.138672\n",
       "Silver    12271.163086"
      ]
     },
     "execution_count": 1077,
     "metadata": {},
     "output_type": "execute_result"
    }
   ],
   "source": [
    "#8)What is the average amount claimed by the customers from various segments?\n",
    "\n",
    "\n",
    "comb_df.groupby(by = \"Segment\")[[\"claim_amount\"]].mean()"
   ]
  },
  {
   "cell_type": "code",
   "execution_count": 1078,
   "id": "75f691e3",
   "metadata": {},
   "outputs": [
    {
     "data": {
      "text/plain": [
       "incident_cause\n",
       "total_Crime                  724462.5\n",
       "total_Driver error          3264286.0\n",
       "total_Natural causes        1312706.0\n",
       "total_Other causes          3725038.5\n",
       "total_Other driver error    3318806.5\n",
       "Name: claim_amount, dtype: float32"
      ]
     },
     "execution_count": 1078,
     "metadata": {},
     "output_type": "execute_result"
    }
   ],
   "source": [
    "#9)What is the total claim amount based on incident cause for all the claims that have been done at least 20 days prior to 1st of October, 2018.\n",
    "\n",
    "comb_df.loc[comb_df.claim_date < \"2018-09-10\",:].groupby(\"incident_cause\")[\"claim_amount\"].sum().add_prefix(\"total_\")"
   ]
  },
  {
   "cell_type": "code",
   "execution_count": 1079,
   "id": "ec3c9509",
   "metadata": {},
   "outputs": [
    {
     "data": {
      "text/plain": [
       "State\n",
       "AK    10\n",
       "DE    15\n",
       "TX    10\n",
       "Name: State, dtype: int64"
      ]
     },
     "execution_count": 1079,
     "metadata": {},
     "output_type": "execute_result"
    }
   ],
   "source": [
    "#10)How many adults from TX, DE and AK claimed insurance for driver related issues and causes?\n",
    "\n",
    "comb_df.loc[(comb_df.incident_cause.str.lower().str.contains(\"driver\") \n",
    "    & ((comb_df.State == \"TX\") | (comb_df.State == \"DE\") | (comb_df.State == \"AK\"))),:].groupby(by = \"State\")[\"State\"].count()"
   ]
  },
  {
   "cell_type": "code",
   "execution_count": 1080,
   "id": "028cefaa",
   "metadata": {},
   "outputs": [],
   "source": [
    "#11)Draw a pie chart between the aggregated value of claim amount based on gender and segment. Represent the claim amount as a percentage on the pie chart.\n",
    "\n",
    "gender_segment_DF = comb_df.groupby(by = [\"gender\",\"Segment\"])[\"claim_amount\"].sum().reset_index()"
   ]
  },
  {
   "cell_type": "code",
   "execution_count": 1081,
   "id": "65d13d3b",
   "metadata": {},
   "outputs": [
    {
     "data": {
      "text/html": [
       "<div>\n",
       "<style scoped>\n",
       "    .dataframe tbody tr th:only-of-type {\n",
       "        vertical-align: middle;\n",
       "    }\n",
       "\n",
       "    .dataframe tbody tr th {\n",
       "        vertical-align: top;\n",
       "    }\n",
       "\n",
       "    .dataframe thead th {\n",
       "        text-align: right;\n",
       "    }\n",
       "</style>\n",
       "<table border=\"1\" class=\"dataframe\">\n",
       "  <thead>\n",
       "    <tr style=\"text-align: right;\">\n",
       "      <th></th>\n",
       "      <th>gender</th>\n",
       "      <th>Segment</th>\n",
       "      <th>claim_amount</th>\n",
       "    </tr>\n",
       "  </thead>\n",
       "  <tbody>\n",
       "    <tr>\n",
       "      <th>0</th>\n",
       "      <td>Female</td>\n",
       "      <td>Gold</td>\n",
       "      <td>2122234.0</td>\n",
       "    </tr>\n",
       "    <tr>\n",
       "      <th>1</th>\n",
       "      <td>Female</td>\n",
       "      <td>Platinum</td>\n",
       "      <td>2381974.0</td>\n",
       "    </tr>\n",
       "    <tr>\n",
       "      <th>2</th>\n",
       "      <td>Female</td>\n",
       "      <td>Silver</td>\n",
       "      <td>1935970.0</td>\n",
       "    </tr>\n",
       "    <tr>\n",
       "      <th>3</th>\n",
       "      <td>Male</td>\n",
       "      <td>Gold</td>\n",
       "      <td>2622890.5</td>\n",
       "    </tr>\n",
       "    <tr>\n",
       "      <th>4</th>\n",
       "      <td>Male</td>\n",
       "      <td>Platinum</td>\n",
       "      <td>2120756.5</td>\n",
       "    </tr>\n",
       "    <tr>\n",
       "      <th>5</th>\n",
       "      <td>Male</td>\n",
       "      <td>Silver</td>\n",
       "      <td>2346666.0</td>\n",
       "    </tr>\n",
       "  </tbody>\n",
       "</table>\n",
       "</div>"
      ],
      "text/plain": [
       "   gender   Segment  claim_amount\n",
       "0  Female      Gold     2122234.0\n",
       "1  Female  Platinum     2381974.0\n",
       "2  Female    Silver     1935970.0\n",
       "3    Male      Gold     2622890.5\n",
       "4    Male  Platinum     2120756.5\n",
       "5    Male    Silver     2346666.0"
      ]
     },
     "execution_count": 1081,
     "metadata": {},
     "output_type": "execute_result"
    }
   ],
   "source": [
    "gender_segment_DF"
   ]
  },
  {
   "cell_type": "code",
   "execution_count": 1082,
   "id": "6f91ccb3",
   "metadata": {},
   "outputs": [],
   "source": [
    "gender_segment_DF = gender_segment_DF.pivot(index = \"Segment\", columns = \"gender\", values = \"claim_amount\")"
   ]
  },
  {
   "cell_type": "code",
   "execution_count": 1083,
   "id": "bd94f93d",
   "metadata": {},
   "outputs": [
    {
     "data": {
      "text/html": [
       "<div>\n",
       "<style scoped>\n",
       "    .dataframe tbody tr th:only-of-type {\n",
       "        vertical-align: middle;\n",
       "    }\n",
       "\n",
       "    .dataframe tbody tr th {\n",
       "        vertical-align: top;\n",
       "    }\n",
       "\n",
       "    .dataframe thead th {\n",
       "        text-align: right;\n",
       "    }\n",
       "</style>\n",
       "<table border=\"1\" class=\"dataframe\">\n",
       "  <thead>\n",
       "    <tr style=\"text-align: right;\">\n",
       "      <th>gender</th>\n",
       "      <th>Female</th>\n",
       "      <th>Male</th>\n",
       "    </tr>\n",
       "    <tr>\n",
       "      <th>Segment</th>\n",
       "      <th></th>\n",
       "      <th></th>\n",
       "    </tr>\n",
       "  </thead>\n",
       "  <tbody>\n",
       "    <tr>\n",
       "      <th>Gold</th>\n",
       "      <td>2122234.0</td>\n",
       "      <td>2622890.5</td>\n",
       "    </tr>\n",
       "    <tr>\n",
       "      <th>Platinum</th>\n",
       "      <td>2381974.0</td>\n",
       "      <td>2120756.5</td>\n",
       "    </tr>\n",
       "    <tr>\n",
       "      <th>Silver</th>\n",
       "      <td>1935970.0</td>\n",
       "      <td>2346666.0</td>\n",
       "    </tr>\n",
       "  </tbody>\n",
       "</table>\n",
       "</div>"
      ],
      "text/plain": [
       "gender       Female       Male\n",
       "Segment                       \n",
       "Gold      2122234.0  2622890.5\n",
       "Platinum  2381974.0  2120756.5\n",
       "Silver    1935970.0  2346666.0"
      ]
     },
     "execution_count": 1083,
     "metadata": {},
     "output_type": "execute_result"
    }
   ],
   "source": [
    "gender_segment_DF"
   ]
  },
  {
   "cell_type": "code",
   "execution_count": 1128,
   "id": "48ce2fd0",
   "metadata": {},
   "outputs": [
    {
     "data": {
      "image/png": "[encoded data removed]",
      "text/plain": [
       "<Figure size 1080x576 with 3 Axes>"
      ]
     },
     "metadata": {},
     "output_type": "display_data"
    }
   ],
   "source": [
    "gender_segment_DF.T.plot(kind = \"pie\",colors=['c', 'g'], autopct='%.1f%%' ,subplots = True, legend = False, figsize = (15,8), labels = [\"Female\", \"Male\"], explode = [0.2, 0], shadow = True)\n",
    "\n",
    "plt.show()"
   ]
  },
  {
   "cell_type": "code",
   "execution_count": 1085,
   "id": "2fe47633",
   "metadata": {},
   "outputs": [
    {
     "data": {
      "text/html": [
       "<div>\n",
       "<style scoped>\n",
       "    .dataframe tbody tr th:only-of-type {\n",
       "        vertical-align: middle;\n",
       "    }\n",
       "\n",
       "    .dataframe tbody tr th {\n",
       "        vertical-align: top;\n",
       "    }\n",
       "\n",
       "    .dataframe thead th {\n",
       "        text-align: right;\n",
       "    }\n",
       "</style>\n",
       "<table border=\"1\" class=\"dataframe\">\n",
       "  <thead>\n",
       "    <tr style=\"text-align: right;\">\n",
       "      <th></th>\n",
       "      <th>gender</th>\n",
       "      <th>CountOf_gender</th>\n",
       "    </tr>\n",
       "  </thead>\n",
       "  <tbody>\n",
       "    <tr>\n",
       "      <th>0</th>\n",
       "      <td>Female</td>\n",
       "      <td>221</td>\n",
       "    </tr>\n",
       "    <tr>\n",
       "      <th>1</th>\n",
       "      <td>Male</td>\n",
       "      <td>280</td>\n",
       "    </tr>\n",
       "  </tbody>\n",
       "</table>\n",
       "</div>"
      ],
      "text/plain": [
       "   gender  CountOf_gender\n",
       "0  Female             221\n",
       "1    Male             280"
      ]
     },
     "execution_count": 1085,
     "metadata": {},
     "output_type": "execute_result"
    }
   ],
   "source": [
    "#12)Among males and females, which gender had claimed the most for any type of driver related issues? E.g. This metric can be compared using a bar chart\n",
    "\n",
    "gender_count_DF = comb_df.loc[(comb_df.incident_cause.str.lower().str.contains(\"driver\"))].groupby(by = \"gender\")[[\"gender\"]].count().add_prefix(\"CountOf_\").reset_index()\n",
    "gender_count_DF"
   ]
  },
  {
   "cell_type": "code",
   "execution_count": 1086,
   "id": "f38e8f82",
   "metadata": {},
   "outputs": [
    {
     "data": {
      "image/png": "[encoded data removed]",
      "text/plain": [
       "<Figure size 432x288 with 1 Axes>"
      ]
     },
     "metadata": {
      "needs_background": "light"
     },
     "output_type": "display_data"
    }
   ],
   "source": [
    "sns.barplot(x = \"gender\", y = \"CountOf_gender\", data = gender_count_DF)\n",
    "plt.show()\n"
   ]
  },
  {
   "cell_type": "code",
   "execution_count": 1087,
   "id": "90f0ea98",
   "metadata": {},
   "outputs": [],
   "source": [
    "#13)Which age group had the maximum fraudulent policy claims? Visualize it on a bar chart.\n",
    "\n",
    "Age_Group_Fraud = comb_df.groupby(by = \"Age_grp\")[[\"fraudulent\"]].count().reset_index()"
   ]
  },
  {
   "cell_type": "code",
   "execution_count": 1088,
   "id": "56611777",
   "metadata": {},
   "outputs": [
    {
     "data": {
      "text/html": [
       "<div>\n",
       "<style scoped>\n",
       "    .dataframe tbody tr th:only-of-type {\n",
       "        vertical-align: middle;\n",
       "    }\n",
       "\n",
       "    .dataframe tbody tr th {\n",
       "        vertical-align: top;\n",
       "    }\n",
       "\n",
       "    .dataframe thead th {\n",
       "        text-align: right;\n",
       "    }\n",
       "</style>\n",
       "<table border=\"1\" class=\"dataframe\">\n",
       "  <thead>\n",
       "    <tr style=\"text-align: right;\">\n",
       "      <th></th>\n",
       "      <th>Age_grp</th>\n",
       "      <th>fraudulent</th>\n",
       "    </tr>\n",
       "  </thead>\n",
       "  <tbody>\n",
       "    <tr>\n",
       "      <th>0</th>\n",
       "      <td>Adult</td>\n",
       "      <td>758</td>\n",
       "    </tr>\n",
       "    <tr>\n",
       "      <th>1</th>\n",
       "      <td>Children</td>\n",
       "      <td>2</td>\n",
       "    </tr>\n",
       "    <tr>\n",
       "      <th>2</th>\n",
       "      <td>NaN</td>\n",
       "      <td>7</td>\n",
       "    </tr>\n",
       "    <tr>\n",
       "      <th>3</th>\n",
       "      <td>Youth</td>\n",
       "      <td>318</td>\n",
       "    </tr>\n",
       "  </tbody>\n",
       "</table>\n",
       "</div>"
      ],
      "text/plain": [
       "    Age_grp  fraudulent\n",
       "0     Adult         758\n",
       "1  Children           2\n",
       "2       NaN           7\n",
       "3     Youth         318"
      ]
     },
     "execution_count": 1088,
     "metadata": {},
     "output_type": "execute_result"
    }
   ],
   "source": [
    "Age_Group_Fraud"
   ]
  },
  {
   "cell_type": "code",
   "execution_count": 1121,
   "id": "ef40e443",
   "metadata": {},
   "outputs": [
    {
     "data": {
      "image/png": "[encoded data removed]",
      "text/plain": [
       "<Figure size 360x288 with 1 Axes>"
      ]
     },
     "metadata": {
      "needs_background": "light"
     },
     "output_type": "display_data"
    }
   ],
   "source": [
    "fig,ax = plt.subplots()\n",
    "fig.set_size_inches(5,4)\n",
    "sns.barplot(x = \"Age_grp\", y = \"fraudulent\", data = Age_Group_Fraud)\n",
    "\n",
    "plt.show()"
   ]
  },
  {
   "cell_type": "code",
   "execution_count": 1090,
   "id": "1b34aab5",
   "metadata": {},
   "outputs": [
    {
     "data": {
      "text/html": [
       "<div>\n",
       "<style scoped>\n",
       "    .dataframe tbody tr th:only-of-type {\n",
       "        vertical-align: middle;\n",
       "    }\n",
       "\n",
       "    .dataframe tbody tr th {\n",
       "        vertical-align: top;\n",
       "    }\n",
       "\n",
       "    .dataframe thead th {\n",
       "        text-align: right;\n",
       "    }\n",
       "</style>\n",
       "<table border=\"1\" class=\"dataframe\">\n",
       "  <thead>\n",
       "    <tr style=\"text-align: right;\">\n",
       "      <th></th>\n",
       "      <th>gender</th>\n",
       "      <th>DateOfBirth</th>\n",
       "      <th>State</th>\n",
       "      <th>Contact</th>\n",
       "      <th>Segment</th>\n",
       "      <th>claim_id</th>\n",
       "      <th>incident_cause</th>\n",
       "      <th>claim_date</th>\n",
       "      <th>claim_area</th>\n",
       "      <th>claim_type</th>\n",
       "      <th>claim_amount</th>\n",
       "      <th>total_policy_claims</th>\n",
       "      <th>fraudulent</th>\n",
       "      <th>flag</th>\n",
       "      <th>Age</th>\n",
       "      <th>Age_grp</th>\n",
       "    </tr>\n",
       "  </thead>\n",
       "  <tbody>\n",
       "    <tr>\n",
       "      <th>0</th>\n",
       "      <td>Female</td>\n",
       "      <td>1978-05-23</td>\n",
       "      <td>DE</td>\n",
       "      <td>9.628791e+09</td>\n",
       "      <td>Platinum</td>\n",
       "      <td>69348631.0</td>\n",
       "      <td>Driver error</td>\n",
       "      <td>2018-04-10</td>\n",
       "      <td>Auto</td>\n",
       "      <td>Injury only</td>\n",
       "      <td>12470.501953</td>\n",
       "      <td>1.0</td>\n",
       "      <td>Yes</td>\n",
       "      <td>0.0</td>\n",
       "      <td>40.0</td>\n",
       "      <td>Adult</td>\n",
       "    </tr>\n",
       "    <tr>\n",
       "      <th>1</th>\n",
       "      <td>Male</td>\n",
       "      <td>1972-12-20</td>\n",
       "      <td>TX</td>\n",
       "      <td>1.738926e+09</td>\n",
       "      <td>Silver</td>\n",
       "      <td>40953049.0</td>\n",
       "      <td>Other causes</td>\n",
       "      <td>2018-04-04</td>\n",
       "      <td>Auto</td>\n",
       "      <td>Material and injury</td>\n",
       "      <td>39192.000000</td>\n",
       "      <td>1.0</td>\n",
       "      <td>Yes</td>\n",
       "      <td>0.0</td>\n",
       "      <td>45.0</td>\n",
       "      <td>Adult</td>\n",
       "    </tr>\n",
       "    <tr>\n",
       "      <th>2</th>\n",
       "      <td>Male</td>\n",
       "      <td>1988-07-28</td>\n",
       "      <td>FL</td>\n",
       "      <td>3.645981e+09</td>\n",
       "      <td>Silver</td>\n",
       "      <td>45780237.0</td>\n",
       "      <td>Natural causes</td>\n",
       "      <td>2017-10-17</td>\n",
       "      <td>Auto</td>\n",
       "      <td>Material only</td>\n",
       "      <td>1621.500000</td>\n",
       "      <td>2.0</td>\n",
       "      <td>Yes</td>\n",
       "      <td>0.0</td>\n",
       "      <td>29.0</td>\n",
       "      <td>Youth</td>\n",
       "    </tr>\n",
       "    <tr>\n",
       "      <th>3</th>\n",
       "      <td>Male</td>\n",
       "      <td>1971-08-19</td>\n",
       "      <td>CA</td>\n",
       "      <td>1.873488e+09</td>\n",
       "      <td>Gold</td>\n",
       "      <td>89833962.0</td>\n",
       "      <td>Other causes</td>\n",
       "      <td>2018-03-21</td>\n",
       "      <td>Auto</td>\n",
       "      <td>Material and injury</td>\n",
       "      <td>37040.000000</td>\n",
       "      <td>1.0</td>\n",
       "      <td>No</td>\n",
       "      <td>1.0</td>\n",
       "      <td>47.0</td>\n",
       "      <td>Adult</td>\n",
       "    </tr>\n",
       "    <tr>\n",
       "      <th>4</th>\n",
       "      <td>Female</td>\n",
       "      <td>1980-08-10</td>\n",
       "      <td>NC</td>\n",
       "      <td>7.988625e+09</td>\n",
       "      <td>Gold</td>\n",
       "      <td>35782742.0</td>\n",
       "      <td>Other driver error</td>\n",
       "      <td>2018-07-27</td>\n",
       "      <td>Auto</td>\n",
       "      <td>Injury only</td>\n",
       "      <td>35250.000000</td>\n",
       "      <td>3.0</td>\n",
       "      <td>No</td>\n",
       "      <td>0.0</td>\n",
       "      <td>38.0</td>\n",
       "      <td>Adult</td>\n",
       "    </tr>\n",
       "  </tbody>\n",
       "</table>\n",
       "</div>"
      ],
      "text/plain": [
       "   gender DateOfBirth State       Contact   Segment    claim_id  \\\n",
       "0  Female  1978-05-23    DE  9.628791e+09  Platinum  69348631.0   \n",
       "1    Male  1972-12-20    TX  1.738926e+09    Silver  40953049.0   \n",
       "2    Male  1988-07-28    FL  3.645981e+09    Silver  45780237.0   \n",
       "3    Male  1971-08-19    CA  1.873488e+09      Gold  89833962.0   \n",
       "4  Female  1980-08-10    NC  7.988625e+09      Gold  35782742.0   \n",
       "\n",
       "       incident_cause claim_date claim_area           claim_type  \\\n",
       "0        Driver error 2018-04-10       Auto          Injury only   \n",
       "1        Other causes 2018-04-04       Auto  Material and injury   \n",
       "2      Natural causes 2017-10-17       Auto        Material only   \n",
       "3        Other causes 2018-03-21       Auto  Material and injury   \n",
       "4  Other driver error 2018-07-27       Auto          Injury only   \n",
       "\n",
       "   claim_amount  total_policy_claims fraudulent  flag   Age Age_grp  \n",
       "0  12470.501953                  1.0        Yes   0.0  40.0   Adult  \n",
       "1  39192.000000                  1.0        Yes   0.0  45.0   Adult  \n",
       "2   1621.500000                  2.0        Yes   0.0  29.0   Youth  \n",
       "3  37040.000000                  1.0         No   1.0  47.0   Adult  \n",
       "4  35250.000000                  3.0         No   0.0  38.0   Adult  "
      ]
     },
     "execution_count": 1090,
     "metadata": {},
     "output_type": "execute_result"
    }
   ],
   "source": [
    "#14)Visualize the monthly trend of the total amount that has been claimed by the customers.Ensure that on the \"month\" axis, the month is in a chronological order not alphabetical order\n",
    "\n",
    "comb_df.head()"
   ]
  },
  {
   "cell_type": "code",
   "execution_count": 1091,
   "id": "1bd8ee86",
   "metadata": {},
   "outputs": [],
   "source": [
    "monthly_trend = comb_df.groupby([\"claim_date\"])[[\"claim_amount\"]].sum().reset_index()"
   ]
  },
  {
   "cell_type": "code",
   "execution_count": 1092,
   "id": "08dccd8a",
   "metadata": {},
   "outputs": [],
   "source": [
    "monthly_trend['Monthly'] = monthly_trend['claim_date'].apply(lambda x:pd.Timestamp.strftime(x,format=\"%B\"))\n",
    "monthly_trend['Yearly'] = monthly_trend['claim_date'].apply(lambda x:pd.Timestamp.strftime(x,format=\"%Y\"))"
   ]
  },
  {
   "cell_type": "code",
   "execution_count": 1093,
   "id": "3718fd22",
   "metadata": {},
   "outputs": [],
   "source": [
    "monthly_trend_data = monthly_trend.groupby([\"Monthly\"])[[\"claim_amount\"]].sum().reset_index()"
   ]
  },
  {
   "cell_type": "code",
   "execution_count": 1094,
   "id": "02a55f25",
   "metadata": {},
   "outputs": [
    {
     "data": {
      "text/html": [
       "<div>\n",
       "<style scoped>\n",
       "    .dataframe tbody tr th:only-of-type {\n",
       "        vertical-align: middle;\n",
       "    }\n",
       "\n",
       "    .dataframe tbody tr th {\n",
       "        vertical-align: top;\n",
       "    }\n",
       "\n",
       "    .dataframe thead th {\n",
       "        text-align: right;\n",
       "    }\n",
       "</style>\n",
       "<table border=\"1\" class=\"dataframe\">\n",
       "  <thead>\n",
       "    <tr style=\"text-align: right;\">\n",
       "      <th></th>\n",
       "      <th>Monthly</th>\n",
       "      <th>claim_amount</th>\n",
       "    </tr>\n",
       "  </thead>\n",
       "  <tbody>\n",
       "    <tr>\n",
       "      <th>0</th>\n",
       "      <td>April</td>\n",
       "      <td>1276071.5</td>\n",
       "    </tr>\n",
       "    <tr>\n",
       "      <th>1</th>\n",
       "      <td>August</td>\n",
       "      <td>911203.5</td>\n",
       "    </tr>\n",
       "    <tr>\n",
       "      <th>2</th>\n",
       "      <td>December</td>\n",
       "      <td>696701.5</td>\n",
       "    </tr>\n",
       "    <tr>\n",
       "      <th>3</th>\n",
       "      <td>February</td>\n",
       "      <td>1133107.0</td>\n",
       "    </tr>\n",
       "    <tr>\n",
       "      <th>4</th>\n",
       "      <td>January</td>\n",
       "      <td>1332012.0</td>\n",
       "    </tr>\n",
       "    <tr>\n",
       "      <th>5</th>\n",
       "      <td>July</td>\n",
       "      <td>1379035.0</td>\n",
       "    </tr>\n",
       "    <tr>\n",
       "      <th>6</th>\n",
       "      <td>June</td>\n",
       "      <td>1276333.0</td>\n",
       "    </tr>\n",
       "    <tr>\n",
       "      <th>7</th>\n",
       "      <td>March</td>\n",
       "      <td>1320094.0</td>\n",
       "    </tr>\n",
       "    <tr>\n",
       "      <th>8</th>\n",
       "      <td>May</td>\n",
       "      <td>1114211.5</td>\n",
       "    </tr>\n",
       "    <tr>\n",
       "      <th>9</th>\n",
       "      <td>November</td>\n",
       "      <td>601125.0</td>\n",
       "    </tr>\n",
       "    <tr>\n",
       "      <th>10</th>\n",
       "      <td>October</td>\n",
       "      <td>1422655.5</td>\n",
       "    </tr>\n",
       "    <tr>\n",
       "      <th>11</th>\n",
       "      <td>September</td>\n",
       "      <td>980648.0</td>\n",
       "    </tr>\n",
       "  </tbody>\n",
       "</table>\n",
       "</div>"
      ],
      "text/plain": [
       "      Monthly  claim_amount\n",
       "0       April     1276071.5\n",
       "1      August      911203.5\n",
       "2    December      696701.5\n",
       "3    February     1133107.0\n",
       "4     January     1332012.0\n",
       "5        July     1379035.0\n",
       "6        June     1276333.0\n",
       "7       March     1320094.0\n",
       "8         May     1114211.5\n",
       "9    November      601125.0\n",
       "10    October     1422655.5\n",
       "11  September      980648.0"
      ]
     },
     "execution_count": 1094,
     "metadata": {},
     "output_type": "execute_result"
    }
   ],
   "source": [
    "monthly_trend_data"
   ]
  },
  {
   "cell_type": "code",
   "execution_count": 1103,
   "id": "842b99ec",
   "metadata": {},
   "outputs": [
    {
     "data": {
      "text/plain": [
       "[<matplotlib.lines.Line2D at 0x1a8d219f280>]"
      ]
     },
     "execution_count": 1103,
     "metadata": {},
     "output_type": "execute_result"
    },
    {
     "data": {
      "image/png": "[encoded data removed]",
      "text/plain": [
       "<Figure size 2880x720 with 1 Axes>"
      ]
     },
     "metadata": {
      "needs_background": "light"
     },
     "output_type": "display_data"
    }
   ],
   "source": [
    "fig,ax = plt.subplots()\n",
    "fig.set_size_inches(40,10)\n",
    "plt.plot(monthly_trend_data['Monthly'], monthly_trend_data['claim_amount'], label = 'Trend Line', color = 'red')\n"
   ]
  },
  {
   "cell_type": "code",
   "execution_count": 936,
   "id": "3b10cf66",
   "metadata": {},
   "outputs": [],
   "source": [
    "#15)What is the average claim amount for gender and age categories and suitably represent the above using a facetted bar chart, one facet that represents fraudulent claims and the other for non-fraudulent claims.\n",
    "\n",
    "\n",
    "Avg_Claim_Amt = comb_df.groupby([\"gender\",\"Age_grp\",\"fraudulent\"])[[\"claim_amount\"]].mean().reset_index()"
   ]
  },
  {
   "cell_type": "code",
   "execution_count": 937,
   "id": "b8c211f2",
   "metadata": {},
   "outputs": [
    {
     "data": {
      "text/html": [
       "<div>\n",
       "<style scoped>\n",
       "    .dataframe tbody tr th:only-of-type {\n",
       "        vertical-align: middle;\n",
       "    }\n",
       "\n",
       "    .dataframe tbody tr th {\n",
       "        vertical-align: top;\n",
       "    }\n",
       "\n",
       "    .dataframe thead th {\n",
       "        text-align: right;\n",
       "    }\n",
       "</style>\n",
       "<table border=\"1\" class=\"dataframe\">\n",
       "  <thead>\n",
       "    <tr style=\"text-align: right;\">\n",
       "      <th></th>\n",
       "      <th>gender</th>\n",
       "      <th>Age_grp</th>\n",
       "      <th>fraudulent</th>\n",
       "      <th>claim_amount</th>\n",
       "    </tr>\n",
       "  </thead>\n",
       "  <tbody>\n",
       "    <tr>\n",
       "      <th>0</th>\n",
       "      <td>Female</td>\n",
       "      <td>Adult</td>\n",
       "      <td>No</td>\n",
       "      <td>12409.596680</td>\n",
       "    </tr>\n",
       "    <tr>\n",
       "      <th>1</th>\n",
       "      <td>Female</td>\n",
       "      <td>Adult</td>\n",
       "      <td>Yes</td>\n",
       "      <td>12348.010742</td>\n",
       "    </tr>\n",
       "    <tr>\n",
       "      <th>2</th>\n",
       "      <td>Female</td>\n",
       "      <td>Children</td>\n",
       "      <td>No</td>\n",
       "      <td>20200.000000</td>\n",
       "    </tr>\n",
       "    <tr>\n",
       "      <th>3</th>\n",
       "      <td>Female</td>\n",
       "      <td>NaN</td>\n",
       "      <td>No</td>\n",
       "      <td>12470.501953</td>\n",
       "    </tr>\n",
       "    <tr>\n",
       "      <th>4</th>\n",
       "      <td>Female</td>\n",
       "      <td>Youth</td>\n",
       "      <td>No</td>\n",
       "      <td>12398.187500</td>\n",
       "    </tr>\n",
       "    <tr>\n",
       "      <th>5</th>\n",
       "      <td>Female</td>\n",
       "      <td>Youth</td>\n",
       "      <td>Yes</td>\n",
       "      <td>7756.771484</td>\n",
       "    </tr>\n",
       "    <tr>\n",
       "      <th>6</th>\n",
       "      <td>Male</td>\n",
       "      <td>Adult</td>\n",
       "      <td>No</td>\n",
       "      <td>12150.460938</td>\n",
       "    </tr>\n",
       "    <tr>\n",
       "      <th>7</th>\n",
       "      <td>Male</td>\n",
       "      <td>Adult</td>\n",
       "      <td>Yes</td>\n",
       "      <td>17062.199219</td>\n",
       "    </tr>\n",
       "    <tr>\n",
       "      <th>8</th>\n",
       "      <td>Male</td>\n",
       "      <td>Children</td>\n",
       "      <td>No</td>\n",
       "      <td>24610.000000</td>\n",
       "    </tr>\n",
       "    <tr>\n",
       "      <th>9</th>\n",
       "      <td>Male</td>\n",
       "      <td>NaN</td>\n",
       "      <td>No</td>\n",
       "      <td>12470.501953</td>\n",
       "    </tr>\n",
       "    <tr>\n",
       "      <th>10</th>\n",
       "      <td>Male</td>\n",
       "      <td>Youth</td>\n",
       "      <td>No</td>\n",
       "      <td>12199.076172</td>\n",
       "    </tr>\n",
       "    <tr>\n",
       "      <th>11</th>\n",
       "      <td>Male</td>\n",
       "      <td>Youth</td>\n",
       "      <td>Yes</td>\n",
       "      <td>10683.552734</td>\n",
       "    </tr>\n",
       "  </tbody>\n",
       "</table>\n",
       "</div>"
      ],
      "text/plain": [
       "    gender   Age_grp fraudulent  claim_amount\n",
       "0   Female     Adult         No  12409.596680\n",
       "1   Female     Adult        Yes  12348.010742\n",
       "2   Female  Children         No  20200.000000\n",
       "3   Female       NaN         No  12470.501953\n",
       "4   Female     Youth         No  12398.187500\n",
       "5   Female     Youth        Yes   7756.771484\n",
       "6     Male     Adult         No  12150.460938\n",
       "7     Male     Adult        Yes  17062.199219\n",
       "8     Male  Children         No  24610.000000\n",
       "9     Male       NaN         No  12470.501953\n",
       "10    Male     Youth         No  12199.076172\n",
       "11    Male     Youth        Yes  10683.552734"
      ]
     },
     "execution_count": 937,
     "metadata": {},
     "output_type": "execute_result"
    }
   ],
   "source": [
    "Avg_Claim_Amt"
   ]
  },
  {
   "cell_type": "code",
   "execution_count": 1098,
   "id": "d5bc760e",
   "metadata": {},
   "outputs": [],
   "source": [
    "Avg_Claim_Amt_Male = Avg_Claim_Amt.loc[ Avg_Claim_Amt.gender == 'Male', ['claim_amount','Age_grp','fraudulent'] ]\n",
    "Avg_Claim_Amt_Female = Avg_Claim_Amt.loc[ Avg_Claim_Amt.gender == 'Female', ['claim_amount','Age_grp','fraudulent'] ]"
   ]
  },
  {
   "cell_type": "code",
   "execution_count": 1099,
   "id": "21f6a591",
   "metadata": {},
   "outputs": [],
   "source": [
    "Avg_Claim_Amt_Male_fraudulent = Avg_Claim_Amt_Male.loc[ Avg_Claim_Amt.fraudulent == 'Yes', ['claim_amount','Age_grp'] ]\n",
    "Avg_Claim_Amt_Male_nonfraudulent = Avg_Claim_Amt_Male.loc[ Avg_Claim_Amt.fraudulent == 'No', ['claim_amount','Age_grp'] ]\n",
    "Avg_Claim_Amt_Female_fraudulent = Avg_Claim_Amt_Female.loc[ Avg_Claim_Amt.fraudulent == 'Yes', ['claim_amount','Age_grp'] ]\n",
    "Avg_Claim_Amt_Female_nonfraudulent = Avg_Claim_Amt_Female.loc[ Avg_Claim_Amt.fraudulent == 'No', ['claim_amount','Age_grp'] ]"
   ]
  },
  {
   "cell_type": "code",
   "execution_count": 1100,
   "id": "cd53a1ba",
   "metadata": {},
   "outputs": [
    {
     "data": {
      "image/png": "[encoded data removed]",
      "text/plain": [
       "<Figure size 432x288 with 1 Axes>"
      ]
     },
     "metadata": {
      "needs_background": "light"
     },
     "output_type": "display_data"
    }
   ],
   "source": [
    "plt.bar(Avg_Claim_Amt_Male_fraudulent.Age_grp , Avg_Claim_Amt_Male_fraudulent.claim_amount, color = ['orange', 'cyan'])\n",
    "plt.title('Avg_Claim_Amt_Male_fraudulent Vs claim_amount')\n",
    "plt.xlabel('Age Group')\n",
    "plt.ylabel('Claim Amount')\n",
    "plt.show()"
   ]
  },
  {
   "cell_type": "code",
   "execution_count": 941,
   "id": "47946202",
   "metadata": {},
   "outputs": [
    {
     "data": {
      "image/png": "[encoded data removed]",
      "text/plain": [
       "<Figure size 432x288 with 1 Axes>"
      ]
     },
     "metadata": {
      "needs_background": "light"
     },
     "output_type": "display_data"
    }
   ],
   "source": [
    "plt.bar(Avg_Claim_Amt_Male_nonfraudulent.Age_grp , Avg_Claim_Amt_Male_nonfraudulent.claim_amount, color = ['violet', 'pink', 'cyan', 'purple'])\n",
    "plt.title('Avg_Claim_Amt_Male_nonfraudulent Vs claim_amount')\n",
    "plt.xlabel('Age Group')\n",
    "plt.ylabel('Claim Amount')\n",
    "plt.show()"
   ]
  },
  {
   "cell_type": "code",
   "execution_count": 1115,
   "id": "08a07495",
   "metadata": {},
   "outputs": [
    {
     "data": {
      "image/png": "[encoded data removed]",
      "text/plain": [
       "<Figure size 432x288 with 1 Axes>"
      ]
     },
     "metadata": {
      "needs_background": "light"
     },
     "output_type": "display_data"
    }
   ],
   "source": [
    "plt.bar(Avg_Claim_Amt_Female_fraudulent.Age_grp , Avg_Claim_Amt_Female_fraudulent.claim_amount, color = ['olive', 'yellow'])\n",
    "\n",
    "plt.title('Avg_Claim_Amt_Female_fraudulent Vs claim_amount')\n",
    "plt.xlabel('Age Group')\n",
    "plt.ylabel('Claim Amount')\n",
    "plt.show()"
   ]
  },
  {
   "cell_type": "code",
   "execution_count": 943,
   "id": "83ca64cd",
   "metadata": {},
   "outputs": [
    {
     "data": {
      "image/png": "[encoded data removed]",
      "text/plain": [
       "<Figure size 432x288 with 1 Axes>"
      ]
     },
     "metadata": {
      "needs_background": "light"
     },
     "output_type": "display_data"
    }
   ],
   "source": [
    "plt.bar(Avg_Claim_Amt_Female_nonfraudulent.Age_grp , Avg_Claim_Amt_Female_nonfraudulent.claim_amount, color=['orange', 'yellow', 'cyan', 'pink'])\n",
    "plt.title('Avg_Claim_Amt_Female_nonfraudulent Vs claim_amount')\n",
    "\n",
    "plt.xlabel('AGE GROUP')\n",
    "plt.ylabel('CLAIM AMOUNT')\n",
    "\n",
    "plt.show()"
   ]
  },
  {
   "cell_type": "code",
   "execution_count": 944,
   "id": "75b73326",
   "metadata": {},
   "outputs": [
    {
     "data": {
      "text/plain": [
       "Male      553\n",
       "Female    532\n",
       "Name: gender, dtype: int64"
      ]
     },
     "execution_count": 944,
     "metadata": {},
     "output_type": "execute_result"
    }
   ],
   "source": [
    "#16)Is there any similarity in the amount claimed by males and females?\n",
    "\n",
    "comb_df.gender.value_counts()"
   ]
  },
  {
   "cell_type": "code",
   "execution_count": 945,
   "id": "1c375bfe",
   "metadata": {},
   "outputs": [
    {
     "data": {
      "text/plain": [
       "Index(['gender', 'DateOfBirth', 'State', 'Contact', 'Segment', 'claim_id',\n",
       "       'incident_cause', 'claim_date', 'claim_area', 'claim_type',\n",
       "       'claim_amount', 'total_policy_claims', 'fraudulent', 'flag', 'Age',\n",
       "       'Age_grp'],\n",
       "      dtype='object')"
      ]
     },
     "execution_count": 945,
     "metadata": {},
     "output_type": "execute_result"
    }
   ],
   "source": [
    "comb_df.columns"
   ]
  },
  {
   "cell_type": "code",
   "execution_count": 946,
   "id": "c7081fdf",
   "metadata": {},
   "outputs": [],
   "source": [
    "comb_df_Gender =  comb_df.groupby([\"gender\", \"claim_date\"])[[\"claim_amount\"]].sum().reset_index()"
   ]
  },
  {
   "cell_type": "code",
   "execution_count": 947,
   "id": "8d7a2dfb",
   "metadata": {},
   "outputs": [],
   "source": [
    "comb_df_Gender['Monthly'] = comb_df_Gender['claim_date'].apply(lambda x:pd.Timestamp.strftime(x,format=\"%B\"))\n",
    "comb_df_Gender['Yearly'] = comb_df_Gender['claim_date'].apply(lambda x:pd.Timestamp.strftime(x,format=\"%Y\"))"
   ]
  },
  {
   "cell_type": "code",
   "execution_count": 948,
   "id": "f099cb82",
   "metadata": {},
   "outputs": [
    {
     "data": {
      "text/html": [
       "<div>\n",
       "<style scoped>\n",
       "    .dataframe tbody tr th:only-of-type {\n",
       "        vertical-align: middle;\n",
       "    }\n",
       "\n",
       "    .dataframe tbody tr th {\n",
       "        vertical-align: top;\n",
       "    }\n",
       "\n",
       "    .dataframe thead th {\n",
       "        text-align: right;\n",
       "    }\n",
       "</style>\n",
       "<table border=\"1\" class=\"dataframe\">\n",
       "  <thead>\n",
       "    <tr style=\"text-align: right;\">\n",
       "      <th></th>\n",
       "      <th>gender</th>\n",
       "      <th>claim_date</th>\n",
       "      <th>claim_amount</th>\n",
       "      <th>Monthly</th>\n",
       "      <th>Yearly</th>\n",
       "    </tr>\n",
       "  </thead>\n",
       "  <tbody>\n",
       "    <tr>\n",
       "      <th>0</th>\n",
       "      <td>Female</td>\n",
       "      <td>2017-01-01</td>\n",
       "      <td>119620.000000</td>\n",
       "      <td>January</td>\n",
       "      <td>2017</td>\n",
       "    </tr>\n",
       "    <tr>\n",
       "      <th>1</th>\n",
       "      <td>Female</td>\n",
       "      <td>2017-01-07</td>\n",
       "      <td>4576.500000</td>\n",
       "      <td>January</td>\n",
       "      <td>2017</td>\n",
       "    </tr>\n",
       "    <tr>\n",
       "      <th>2</th>\n",
       "      <td>Female</td>\n",
       "      <td>2017-01-14</td>\n",
       "      <td>85203.000000</td>\n",
       "      <td>January</td>\n",
       "      <td>2017</td>\n",
       "    </tr>\n",
       "    <tr>\n",
       "      <th>3</th>\n",
       "      <td>Female</td>\n",
       "      <td>2017-01-21</td>\n",
       "      <td>23379.501953</td>\n",
       "      <td>January</td>\n",
       "      <td>2017</td>\n",
       "    </tr>\n",
       "    <tr>\n",
       "      <th>4</th>\n",
       "      <td>Female</td>\n",
       "      <td>2017-01-27</td>\n",
       "      <td>6507.500000</td>\n",
       "      <td>January</td>\n",
       "      <td>2017</td>\n",
       "    </tr>\n",
       "  </tbody>\n",
       "</table>\n",
       "</div>"
      ],
      "text/plain": [
       "   gender claim_date   claim_amount  Monthly Yearly\n",
       "0  Female 2017-01-01  119620.000000  January   2017\n",
       "1  Female 2017-01-07    4576.500000  January   2017\n",
       "2  Female 2017-01-14   85203.000000  January   2017\n",
       "3  Female 2017-01-21   23379.501953  January   2017\n",
       "4  Female 2017-01-27    6507.500000  January   2017"
      ]
     },
     "execution_count": 948,
     "metadata": {},
     "output_type": "execute_result"
    }
   ],
   "source": [
    "comb_df_Gender.head()"
   ]
  },
  {
   "cell_type": "code",
   "execution_count": 949,
   "id": "99cf2e00",
   "metadata": {},
   "outputs": [
    {
     "name": "stdout",
     "output_type": "stream",
     "text": [
      "Mean of male expenditure:  71367.390625 | Mean of female expenditure:  63778.25390625\n"
     ]
    }
   ],
   "source": [
    "Claim_amt = 'claim_amount'\n",
    "\n",
    "male_spend = comb_df_Gender.loc[ comb_df_Gender.gender == \"Male\", Claim_amt ]\n",
    "female_spend = comb_df_Gender.loc[ comb_df_Gender.gender == \"Female\", Claim_amt ]\n",
    "\n",
    "print( 'Mean of male expenditure: ', male_spend.mean(), '| Mean of female expenditure: ', female_spend.mean() )"
   ]
  },
  {
   "cell_type": "code",
   "execution_count": 950,
   "id": "9635484b",
   "metadata": {},
   "outputs": [
    {
     "data": {
      "text/plain": [
       "Ttest_indResult(statistic=1.3269766899056947, pvalue=0.18605236930923746)"
      ]
     },
     "execution_count": 950,
     "metadata": {},
     "output_type": "execute_result"
    }
   ],
   "source": [
    "stats.ttest_ind( male_spend, female_spend )"
   ]
  },
  {
   "cell_type": "code",
   "execution_count": 951,
   "id": "7ea66bb7",
   "metadata": {},
   "outputs": [
    {
     "data": {
      "text/plain": [
       "F_onewayResult(statistic=1.760868249357575, pvalue=0.186052230728328)"
      ]
     },
     "execution_count": 951,
     "metadata": {},
     "output_type": "execute_result"
    }
   ],
   "source": [
    "stats.f_oneway( male_spend, female_spend )"
   ]
  },
  {
   "cell_type": "code",
   "execution_count": 952,
   "id": "365ba0dd",
   "metadata": {},
   "outputs": [
    {
     "name": "stdout",
     "output_type": "stream",
     "text": [
      " Inference: Pvalue is > 0.05. Therefoe, we accept Null Hypothesis H0 and There is no relationship between the amount claimed by males and females\n"
     ]
    }
   ],
   "source": [
    "print (\" Inference: Pvalue is > 0.05. Therefoe, we accept Null Hypothesis H0 and There is no relationship between the amount claimed by males and females\" )"
   ]
  },
  {
   "cell_type": "code",
   "execution_count": 953,
   "id": "604ccd4b",
   "metadata": {},
   "outputs": [],
   "source": [
    "#17)Is there any relationship between age category and segment?\n",
    "\n",
    "obs_freq = pd.crosstab( comb_df.Segment, comb_df.Age_grp )"
   ]
  },
  {
   "cell_type": "code",
   "execution_count": 954,
   "id": "5177f264",
   "metadata": {},
   "outputs": [
    {
     "data": {
      "text/html": [
       "<div>\n",
       "<style scoped>\n",
       "    .dataframe tbody tr th:only-of-type {\n",
       "        vertical-align: middle;\n",
       "    }\n",
       "\n",
       "    .dataframe tbody tr th {\n",
       "        vertical-align: top;\n",
       "    }\n",
       "\n",
       "    .dataframe thead th {\n",
       "        text-align: right;\n",
       "    }\n",
       "</style>\n",
       "<table border=\"1\" class=\"dataframe\">\n",
       "  <thead>\n",
       "    <tr style=\"text-align: right;\">\n",
       "      <th>Age_grp</th>\n",
       "      <th>Adult</th>\n",
       "      <th>Children</th>\n",
       "      <th>NaN</th>\n",
       "      <th>Youth</th>\n",
       "    </tr>\n",
       "    <tr>\n",
       "      <th>Segment</th>\n",
       "      <th></th>\n",
       "      <th></th>\n",
       "      <th></th>\n",
       "      <th></th>\n",
       "    </tr>\n",
       "  </thead>\n",
       "  <tbody>\n",
       "    <tr>\n",
       "      <th>Gold</th>\n",
       "      <td>268</td>\n",
       "      <td>1</td>\n",
       "      <td>1</td>\n",
       "      <td>102</td>\n",
       "    </tr>\n",
       "    <tr>\n",
       "      <th>Platinum</th>\n",
       "      <td>244</td>\n",
       "      <td>1</td>\n",
       "      <td>3</td>\n",
       "      <td>116</td>\n",
       "    </tr>\n",
       "    <tr>\n",
       "      <th>Silver</th>\n",
       "      <td>246</td>\n",
       "      <td>0</td>\n",
       "      <td>3</td>\n",
       "      <td>100</td>\n",
       "    </tr>\n",
       "  </tbody>\n",
       "</table>\n",
       "</div>"
      ],
      "text/plain": [
       "Age_grp   Adult  Children  NaN  Youth\n",
       "Segment                              \n",
       "Gold        268         1    1    102\n",
       "Platinum    244         1    3    116\n",
       "Silver      246         0    3    100"
      ]
     },
     "execution_count": 954,
     "metadata": {},
     "output_type": "execute_result"
    }
   ],
   "source": [
    "obs_freq"
   ]
  },
  {
   "cell_type": "code",
   "execution_count": 955,
   "id": "1484e377",
   "metadata": {},
   "outputs": [
    {
     "data": {
      "text/plain": [
       "(4.202535990127086,\n",
       " 0.6492889827669297,\n",
       " 6,\n",
       " array([[259.88571429,   0.68571429,   2.4       , 109.02857143],\n",
       "        [254.29677419,   0.67096774,   2.3483871 , 106.68387097],\n",
       "        [243.81751152,   0.64331797,   2.2516129 , 102.2875576 ]]))"
      ]
     },
     "execution_count": 955,
     "metadata": {},
     "output_type": "execute_result"
    }
   ],
   "source": [
    "stats.chi2_contingency( obs_freq )"
   ]
  },
  {
   "cell_type": "code",
   "execution_count": 956,
   "id": "56889d15",
   "metadata": {},
   "outputs": [
    {
     "name": "stdout",
     "output_type": "stream",
     "text": [
      " Inference: Pvalue is > 0.05. Hence we accept Null Hypothesis H0 and There is no relationship between age category and segment\n"
     ]
    }
   ],
   "source": [
    "print (\" Inference: Pvalue is > 0.05. Hence we accept Null Hypothesis H0 and There is no relationship between age category and segment\" )"
   ]
  },
  {
   "cell_type": "code",
   "execution_count": 957,
   "id": "1eeb7f00",
   "metadata": {},
   "outputs": [],
   "source": [
    "#18)The current year has shown a significant rise in claim amounts as compared to 2016-17 fiscal average which was $10,000.\n",
    "comb_df_new =  comb_df.groupby([\"claim_date\"])[[\"claim_amount\"]].sum().reset_index()"
   ]
  },
  {
   "cell_type": "code",
   "execution_count": 958,
   "id": "4cfebc67",
   "metadata": {},
   "outputs": [],
   "source": [
    "comb_df_new['Monthly'] = comb_df_new['claim_date'].apply(lambda x:pd.Timestamp.strftime(x,format=\"%B\"))\n",
    "comb_df_new['Yearly'] = comb_df_new['claim_date'].apply(lambda x:pd.Timestamp.strftime(x,format=\"%Y\"))"
   ]
  },
  {
   "cell_type": "code",
   "execution_count": 959,
   "id": "3bb72f7c",
   "metadata": {},
   "outputs": [
    {
     "data": {
      "text/html": [
       "<div>\n",
       "<style scoped>\n",
       "    .dataframe tbody tr th:only-of-type {\n",
       "        vertical-align: middle;\n",
       "    }\n",
       "\n",
       "    .dataframe tbody tr th {\n",
       "        vertical-align: top;\n",
       "    }\n",
       "\n",
       "    .dataframe thead th {\n",
       "        text-align: right;\n",
       "    }\n",
       "</style>\n",
       "<table border=\"1\" class=\"dataframe\">\n",
       "  <thead>\n",
       "    <tr style=\"text-align: right;\">\n",
       "      <th></th>\n",
       "      <th>claim_date</th>\n",
       "      <th>claim_amount</th>\n",
       "      <th>Monthly</th>\n",
       "      <th>Yearly</th>\n",
       "    </tr>\n",
       "  </thead>\n",
       "  <tbody>\n",
       "    <tr>\n",
       "      <th>0</th>\n",
       "      <td>2017-01-01</td>\n",
       "      <td>203227.0</td>\n",
       "      <td>January</td>\n",
       "      <td>2017</td>\n",
       "    </tr>\n",
       "    <tr>\n",
       "      <th>1</th>\n",
       "      <td>2017-01-07</td>\n",
       "      <td>137763.5</td>\n",
       "      <td>January</td>\n",
       "      <td>2017</td>\n",
       "    </tr>\n",
       "    <tr>\n",
       "      <th>2</th>\n",
       "      <td>2017-01-14</td>\n",
       "      <td>138807.5</td>\n",
       "      <td>January</td>\n",
       "      <td>2017</td>\n",
       "    </tr>\n",
       "    <tr>\n",
       "      <th>3</th>\n",
       "      <td>2017-01-21</td>\n",
       "      <td>72576.5</td>\n",
       "      <td>January</td>\n",
       "      <td>2017</td>\n",
       "    </tr>\n",
       "    <tr>\n",
       "      <th>4</th>\n",
       "      <td>2017-01-27</td>\n",
       "      <td>57928.0</td>\n",
       "      <td>January</td>\n",
       "      <td>2017</td>\n",
       "    </tr>\n",
       "    <tr>\n",
       "      <th>...</th>\n",
       "      <td>...</td>\n",
       "      <td>...</td>\n",
       "      <td>...</td>\n",
       "      <td>...</td>\n",
       "    </tr>\n",
       "    <tr>\n",
       "      <th>95</th>\n",
       "      <td>2018-10-03</td>\n",
       "      <td>162797.5</td>\n",
       "      <td>October</td>\n",
       "      <td>2018</td>\n",
       "    </tr>\n",
       "    <tr>\n",
       "      <th>96</th>\n",
       "      <td>2018-10-09</td>\n",
       "      <td>225007.5</td>\n",
       "      <td>October</td>\n",
       "      <td>2018</td>\n",
       "    </tr>\n",
       "    <tr>\n",
       "      <th>97</th>\n",
       "      <td>2018-10-16</td>\n",
       "      <td>119829.0</td>\n",
       "      <td>October</td>\n",
       "      <td>2018</td>\n",
       "    </tr>\n",
       "    <tr>\n",
       "      <th>98</th>\n",
       "      <td>2018-10-23</td>\n",
       "      <td>147084.0</td>\n",
       "      <td>October</td>\n",
       "      <td>2018</td>\n",
       "    </tr>\n",
       "    <tr>\n",
       "      <th>99</th>\n",
       "      <td>2018-10-30</td>\n",
       "      <td>120735.5</td>\n",
       "      <td>October</td>\n",
       "      <td>2018</td>\n",
       "    </tr>\n",
       "  </tbody>\n",
       "</table>\n",
       "<p>100 rows × 4 columns</p>\n",
       "</div>"
      ],
      "text/plain": [
       "   claim_date  claim_amount  Monthly Yearly\n",
       "0  2017-01-01      203227.0  January   2017\n",
       "1  2017-01-07      137763.5  January   2017\n",
       "2  2017-01-14      138807.5  January   2017\n",
       "3  2017-01-21       72576.5  January   2017\n",
       "4  2017-01-27       57928.0  January   2017\n",
       "..        ...           ...      ...    ...\n",
       "95 2018-10-03      162797.5  October   2018\n",
       "96 2018-10-09      225007.5  October   2018\n",
       "97 2018-10-16      119829.0  October   2018\n",
       "98 2018-10-23      147084.0  October   2018\n",
       "99 2018-10-30      120735.5  October   2018\n",
       "\n",
       "[100 rows x 4 columns]"
      ]
     },
     "execution_count": 959,
     "metadata": {},
     "output_type": "execute_result"
    }
   ],
   "source": [
    "comb_df_new"
   ]
  },
  {
   "cell_type": "code",
   "execution_count": 960,
   "id": "300440b9",
   "metadata": {},
   "outputs": [
    {
     "name": "stdout",
     "output_type": "stream",
     "text": [
      "133465.859375\n"
     ]
    }
   ],
   "source": [
    "comb_df_new_2017 = comb_df_new.loc[ comb_df_new.Yearly == '2017', 'claim_amount' ].mean()\n",
    "print( comb_df_new_2017 )"
   ]
  },
  {
   "cell_type": "code",
   "execution_count": 961,
   "id": "3873ae53",
   "metadata": {},
   "outputs": [],
   "source": [
    "comb_df_new_2018 = comb_df_new.loc[ comb_df_new.Yearly == '2018', 'claim_amount' ]"
   ]
  },
  {
   "cell_type": "code",
   "execution_count": 962,
   "id": "6afab557",
   "metadata": {},
   "outputs": [
    {
     "data": {
      "text/plain": [
       "Ttest_1sampResult(statistic=4.623132209540581, pvalue=3.310963329742883e-05)"
      ]
     },
     "execution_count": 962,
     "metadata": {},
     "output_type": "execute_result"
    }
   ],
   "source": [
    "stats.ttest_1samp( comb_df_new_2018, 100000 )"
   ]
  },
  {
   "cell_type": "code",
   "execution_count": 963,
   "id": "f49d6fad",
   "metadata": {},
   "outputs": [
    {
     "data": {
      "text/plain": [
       "4"
      ]
     },
     "execution_count": 963,
     "metadata": {},
     "output_type": "execute_result"
    }
   ],
   "source": [
    "#19)Is there any relationship between age groups and insurance claims?\n",
    "comb_df.Age_grp.nunique()"
   ]
  },
  {
   "cell_type": "code",
   "execution_count": 964,
   "id": "28a89f47",
   "metadata": {},
   "outputs": [
    {
     "data": {
      "text/plain": [
       "Adult       758\n",
       "Youth       318\n",
       "NaN           7\n",
       "Children      2\n",
       "Name: Age_grp, dtype: int64"
      ]
     },
     "execution_count": 964,
     "metadata": {},
     "output_type": "execute_result"
    }
   ],
   "source": [
    "comb_df.Age_grp.value_counts()"
   ]
  },
  {
   "cell_type": "code",
   "execution_count": 965,
   "id": "fb302141",
   "metadata": {},
   "outputs": [
    {
     "data": {
      "text/plain": [
       "Index(['gender', 'DateOfBirth', 'State', 'Contact', 'Segment', 'claim_id',\n",
       "       'incident_cause', 'claim_date', 'claim_area', 'claim_type',\n",
       "       'claim_amount', 'total_policy_claims', 'fraudulent', 'flag', 'Age',\n",
       "       'Age_grp'],\n",
       "      dtype='object')"
      ]
     },
     "execution_count": 965,
     "metadata": {},
     "output_type": "execute_result"
    }
   ],
   "source": [
    "comb_df.columns"
   ]
  },
  {
   "cell_type": "code",
   "execution_count": 966,
   "id": "c3d0124f",
   "metadata": {},
   "outputs": [],
   "source": [
    "Claims = 'claim_amount'"
   ]
  },
  {
   "cell_type": "code",
   "execution_count": 967,
   "id": "44f112f0",
   "metadata": {},
   "outputs": [],
   "source": [
    "s1 = comb_df.loc[ comb_df.Age_grp == 'Adult', Claims ]\n",
    "s2 = comb_df.loc[ comb_df.Age_grp == 'Youth', Claims ]\n",
    "s3 = comb_df.loc[ comb_df.Age_grp == 'NaN', Claims ]\n",
    "s4 = comb_df.loc[ comb_df.Age_grp == 'Children', Claims ]\n"
   ]
  },
  {
   "cell_type": "code",
   "execution_count": 968,
   "id": "51ee7322",
   "metadata": {},
   "outputs": [
    {
     "name": "stdout",
     "output_type": "stream",
     "text": [
      "Count s1: 12807.7373046875 | Count s2: 11604.1796875 | Count s3: 12470.5009765625 | Count s3: 22405.0\n"
     ]
    }
   ],
   "source": [
    "print( 'Count s1:', s1.mean(), '| Count s2:', s2.mean(), '| Count s3:', s3.mean(), \n",
    "       '| Count s3:', s4.mean() )"
   ]
  },
  {
   "cell_type": "code",
   "execution_count": 969,
   "id": "b5fd6872",
   "metadata": {},
   "outputs": [
    {
     "data": {
      "text/plain": [
       "F_onewayResult(statistic=0.9807714600637603, pvalue=0.4010198300701352)"
      ]
     },
     "execution_count": 969,
     "metadata": {},
     "output_type": "execute_result"
    }
   ],
   "source": [
    "stats.f_oneway( s1, s2, s3, s4 )"
   ]
  },
  {
   "cell_type": "code",
   "execution_count": 970,
   "id": "1614d5dd",
   "metadata": {},
   "outputs": [
    {
     "name": "stdout",
     "output_type": "stream",
     "text": [
      " Inference: Pvalue is > 0.05. Hence we accept Null Hypothesis H0 and There is no relationship between age groups and insurance claims\n"
     ]
    }
   ],
   "source": [
    "print (\" Inference: Pvalue is > 0.05. Hence we accept Null Hypothesis H0 and There is no relationship between age groups and insurance claims\" )"
   ]
  },
  {
   "cell_type": "code",
   "execution_count": 971,
   "id": "7a0070d0",
   "metadata": {},
   "outputs": [
    {
     "data": {
      "text/plain": [
       "1.0    781\n",
       "2.0    104\n",
       "3.0     86\n",
       "4.0     58\n",
       "5.0     27\n",
       "6.0      9\n",
       "7.0      2\n",
       "8.0      1\n",
       "Name: total_policy_claims, dtype: int64"
      ]
     },
     "execution_count": 971,
     "metadata": {},
     "output_type": "execute_result"
    }
   ],
   "source": [
    "#20)Is there any relationship between total number of policy claims and the claimed amount?\n",
    "comb_df.total_policy_claims.value_counts()"
   ]
  },
  {
   "cell_type": "code",
   "execution_count": 972,
   "id": "38a5b752",
   "metadata": {},
   "outputs": [
    {
     "data": {
      "text/plain": [
       "Index(['gender', 'DateOfBirth', 'State', 'Contact', 'Segment', 'claim_id',\n",
       "       'incident_cause', 'claim_date', 'claim_area', 'claim_type',\n",
       "       'claim_amount', 'total_policy_claims', 'fraudulent', 'flag', 'Age',\n",
       "       'Age_grp'],\n",
       "      dtype='object')"
      ]
     },
     "execution_count": 972,
     "metadata": {},
     "output_type": "execute_result"
    }
   ],
   "source": [
    "comb_df.columns"
   ]
  },
  {
   "cell_type": "code",
   "execution_count": 973,
   "id": "2b9f0445",
   "metadata": {},
   "outputs": [],
   "source": [
    "usage = 'claim_amount'"
   ]
  },
  {
   "cell_type": "code",
   "execution_count": 974,
   "id": "5c3fe8af",
   "metadata": {},
   "outputs": [],
   "source": [
    "s1 = comb_df.loc[ comb_df.total_policy_claims == 1.0, usage ]\n",
    "s2 = comb_df.loc[ comb_df.total_policy_claims == 2.0, usage ]\n",
    "s3 = comb_df.loc[ comb_df.total_policy_claims == 3.0, usage ]\n",
    "s4 = comb_df.loc[ comb_df.total_policy_claims == 4.0, usage ]\n",
    "s5 = comb_df.loc[ comb_df.total_policy_claims == 5.0, usage ]\n",
    "s6 = comb_df.loc[ comb_df.total_policy_claims == 6.0, usage ]\n",
    "s7 = comb_df.loc[ comb_df.total_policy_claims == 7.0, usage ]\n",
    "s8 = comb_df.loc[ comb_df.total_policy_claims == 8.0, usage ]"
   ]
  },
  {
   "cell_type": "code",
   "execution_count": 975,
   "id": "760486f4",
   "metadata": {},
   "outputs": [
    {
     "name": "stdout",
     "output_type": "stream",
     "text": [
      "mean s1: 12403.6552734375 | mean s2: 13876.4521484375 | mean s3: 12928.19140625 mean s4: 11049.724609375 | mean s5: 8530.462890625 | mean s6: 15657.8330078125 |mean s7: 23033.0 | mean s8: 13876.4521484375 | mean s8: 12928.19140625\n"
     ]
    }
   ],
   "source": [
    "print( 'mean s1:', s1.mean(), '| mean s2:', s2.mean(), '| mean s3:', s3.mean(),'mean s4:', s4.mean(), \n",
    "       '| mean s5:', s5.mean(), '| mean s6:', s6.mean(),'|mean s7:', s7.mean(), '| mean s8:', s2.mean(), '| mean s8:', s3.mean() )"
   ]
  },
  {
   "cell_type": "code",
   "execution_count": 976,
   "id": "63d580ec",
   "metadata": {},
   "outputs": [
    {
     "data": {
      "text/plain": [
       "F_onewayResult(statistic=0.9303871872119974, pvalue=0.4818261589585725)"
      ]
     },
     "execution_count": 976,
     "metadata": {},
     "output_type": "execute_result"
    }
   ],
   "source": [
    "stats.f_oneway( s1, s2, s3, s4, s5, s6, s7, s8 )"
   ]
  },
  {
   "cell_type": "code",
   "execution_count": null,
   "id": "e5040c4b",
   "metadata": {},
   "outputs": [],
   "source": [
    "print (\" Inference: Hence we accept Null Hypothesis H0 and There is a relationship between total number of policy claims and the claimed amounts\" )"
   ]
  },
  {
   "cell_type": "code",
   "execution_count": null,
   "id": "9cb1a880",
   "metadata": {},
   "outputs": [],
   "source": []
  }
 ],
 "metadata": {
  "kernelspec": {
   "display_name": "Python 3 (ipykernel)",
   "language": "python",
   "name": "python3"
  },
  "language_info": {
   "codemirror_mode": {
    "name": "ipython",
    "version": 3
   },
   "file_extension": ".py",
   "mimetype": "text/x-python",
   "name": "python",
   "nbconvert_exporter": "python",
   "pygments_lexer": "ipython3",
   "version": "3.9.12"
  }
 },
 "nbformat": 4,
 "nbformat_minor": 5
}
